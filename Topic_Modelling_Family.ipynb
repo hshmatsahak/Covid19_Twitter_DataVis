{
 "cells": [
  {
   "cell_type": "code",
   "execution_count": 1,
   "id": "084e4e55",
   "metadata": {},
   "outputs": [
    {
     "name": "stderr",
     "output_type": "stream",
     "text": [
      "[nltk_data] Downloading package stopwords to\n",
      "[nltk_data]     C:\\Users\\hshma\\AppData\\Roaming\\nltk_data...\n",
      "[nltk_data]   Package stopwords is already up-to-date!\n"
     ]
    },
    {
     "data": {
      "text/plain": [
       "True"
      ]
     },
     "execution_count": 1,
     "metadata": {},
     "output_type": "execute_result"
    }
   ],
   "source": [
    "import nltk; nltk.download('stopwords')"
   ]
  },
  {
   "cell_type": "code",
   "execution_count": 2,
   "id": "56c0d3f8",
   "metadata": {},
   "outputs": [],
   "source": [
    "import re\n",
    "import numpy as np\n",
    "import pandas as pd\n",
    "from pprint import pprint\n",
    "\n",
    "# Gensim\n",
    "import gensim\n",
    "import gensim.corpora as corpora\n",
    "from gensim.utils import simple_preprocess\n",
    "from gensim.models import CoherenceModel\n",
    "\n",
    "# spacy for lemmatization\n",
    "import spacy\n",
    "\n",
    "# Plotting tools\n",
    "import pyLDAvis\n",
    "import pyLDAvis.gensim_models  # don't skip this\n",
    "import matplotlib.pyplot as plt\n",
    "%matplotlib inline\n",
    "\n",
    "# Enable logging for gensim - optional\n",
    "import logging\n",
    "logging.basicConfig(format='%(asctime)s : %(levelname)s : %(message)s', level=logging.ERROR)\n",
    "\n",
    "import warnings\n",
    "warnings.filterwarnings(\"ignore\",category=DeprecationWarning)"
   ]
  },
  {
   "cell_type": "code",
   "execution_count": 3,
   "id": "89c52bc1",
   "metadata": {},
   "outputs": [],
   "source": [
    "# NLTK Stop words\n",
    "from nltk.corpus import stopwords\n",
    "stop_words = stopwords.words('english')\n",
    "stop_words.extend(['from', 'subject', 're', 'edu', 'use'])"
   ]
  },
  {
   "cell_type": "code",
   "execution_count": 4,
   "id": "417e5bd5",
   "metadata": {},
   "outputs": [
    {
     "data": {
      "text/html": [
       "<div>\n",
       "<style scoped>\n",
       "    .dataframe tbody tr th:only-of-type {\n",
       "        vertical-align: middle;\n",
       "    }\n",
       "\n",
       "    .dataframe tbody tr th {\n",
       "        vertical-align: top;\n",
       "    }\n",
       "\n",
       "    .dataframe thead th {\n",
       "        text-align: right;\n",
       "    }\n",
       "</style>\n",
       "<table border=\"1\" class=\"dataframe\">\n",
       "  <thead>\n",
       "    <tr style=\"text-align: right;\">\n",
       "      <th></th>\n",
       "      <th>clean_text</th>\n",
       "    </tr>\n",
       "  </thead>\n",
       "  <tbody>\n",
       "    <tr>\n",
       "      <th>0</th>\n",
       "      <td>They think my sister has Corona 👀</td>\n",
       "    </tr>\n",
       "    <tr>\n",
       "      <th>1</th>\n",
       "      <td>It’s a sad day 😔 my mom was suppose to see her...</td>\n",
       "    </tr>\n",
       "    <tr>\n",
       "      <th>2</th>\n",
       "      <td>Did I really just hear my mom say “You got coc...</td>\n",
       "    </tr>\n",
       "    <tr>\n",
       "      <th>3</th>\n",
       "      <td>@_abigailelainee @Bubba_Dade We already had th...</td>\n",
       "    </tr>\n",
       "    <tr>\n",
       "      <th>4</th>\n",
       "      <td>How would you like to #quarantine here at our ...</td>\n",
       "    </tr>\n",
       "  </tbody>\n",
       "</table>\n",
       "</div>"
      ],
      "text/plain": [
       "                                          clean_text\n",
       "0                  They think my sister has Corona 👀\n",
       "1  It’s a sad day 😔 my mom was suppose to see her...\n",
       "2  Did I really just hear my mom say “You got coc...\n",
       "3  @_abigailelainee @Bubba_Dade We already had th...\n",
       "4  How would you like to #quarantine here at our ..."
      ]
     },
     "execution_count": 4,
     "metadata": {},
     "output_type": "execute_result"
    }
   ],
   "source": [
    "# Import Dataset\n",
    "family_df = pd.read_csv('./Stored_Dataframes/family_df_with_topics.csv')\n",
    "topic_family_df = family_df[['clean_text']]\n",
    "topic_family_df.head()"
   ]
  },
  {
   "cell_type": "code",
   "execution_count": 5,
   "id": "90beff9f",
   "metadata": {},
   "outputs": [
    {
     "name": "stdout",
     "output_type": "stream",
     "text": [
      "['They think my sister has Corona 👀',\n",
      " 'It’s a sad day 😔 my mom was suppose to see her mom after not seeing her for '\n",
      " '20 years tomorrow but with this corona virus shit they closed the frontera '\n",
      " 'and won’t be able to see her 😓💔 they were so excited to see each other it '\n",
      " 'break my heart for them both!']\n"
     ]
    }
   ],
   "source": [
    "# Convert to list\n",
    "data = topic_family_df.clean_text.values.tolist()\n",
    "\n",
    "# Remove new line characters\n",
    "data = [re.sub('\\s+', ' ', sent) for sent in data]\n",
    "\n",
    "# Remove distracting single quotes\n",
    "data = [re.sub(\"\\'\",\" \", sent) for sent in data]\n",
    "\n",
    "pprint(data[:2])"
   ]
  },
  {
   "cell_type": "code",
   "execution_count": 6,
   "id": "e85ff6e4",
   "metadata": {},
   "outputs": [
    {
     "name": "stdout",
     "output_type": "stream",
     "text": [
      "[['they', 'think', 'my', 'sister', 'has', 'corona']]\n"
     ]
    }
   ],
   "source": [
    "def sent_to_words(sentences):\n",
    "    for sentence in sentences:\n",
    "        yield(gensim.utils.simple_preprocess(str(sentence).encode('utf-8'), deacc=True))  # deacc=True removes punctuations\n",
    "\n",
    "data_words = list(sent_to_words(data))\n",
    "print(data_words[:1])"
   ]
  },
  {
   "cell_type": "code",
   "execution_count": 7,
   "id": "fc0c5494",
   "metadata": {},
   "outputs": [
    {
     "name": "stdout",
     "output_type": "stream",
     "text": [
      "['they', 'think', 'my', 'sister', 'has', 'corona']\n"
     ]
    }
   ],
   "source": [
    "# Build the bigram and trigram models\n",
    "bigram = gensim.models.Phrases(data_words, min_count=5, threshold=100) # higher threshold fewer phrases.\n",
    "trigram = gensim.models.Phrases(bigram[data_words], threshold=100)  \n",
    "\n",
    "# Faster way to get a sentence clubbed as a trigram/bigram\n",
    "bigram_mod = gensim.models.phrases.Phraser(bigram)\n",
    "trigram_mod = gensim.models.phrases.Phraser(trigram)\n",
    "\n",
    "# See trigram example\n",
    "print(trigram_mod[bigram_mod[data_words[0]]])"
   ]
  },
  {
   "cell_type": "code",
   "execution_count": 8,
   "id": "6718991d",
   "metadata": {},
   "outputs": [],
   "source": [
    "# Define functions for stopwords, bigrams, trigrams and lemmatization\n",
    "def remove_stopwords(texts):\n",
    "    return [[word for word in simple_preprocess(str(doc)) if word not in stop_words] for doc in texts]\n",
    "\n",
    "def make_bigrams(texts):\n",
    "    return [bigram_mod[doc] for doc in texts]\n",
    "\n",
    "def make_trigrams(texts):\n",
    "    return [trigram_mod[bigram_mod[doc]] for doc in texts]\n",
    "\n",
    "def lemmatization(texts, allowed_postags=['NOUN', 'ADJ', 'VERB', 'ADV']):\n",
    "    \"\"\"https://spacy.io/api/annotation\"\"\"\n",
    "    texts_out = []\n",
    "    for sent in texts:\n",
    "        doc = nlp(\" \".join(sent)) \n",
    "        texts_out.append([token.lemma_ for token in doc if token.pos_ in allowed_postags])\n",
    "    return texts_out"
   ]
  },
  {
   "cell_type": "code",
   "execution_count": 9,
   "id": "81393585",
   "metadata": {},
   "outputs": [
    {
     "name": "stdout",
     "output_type": "stream",
     "text": [
      "Collecting en_core_web_sm==2.3.1\n",
      "  Downloading https://github.com/explosion/spacy-models/releases/download/en_core_web_sm-2.3.1/en_core_web_sm-2.3.1.tar.gz (12.0 MB)\n",
      "[!] Skipping model package dependencies and setting `--no-deps`. You don't seem\n",
      "to have the spaCy package itself installed (maybe because you've built from\n",
      "source?), so installing the model dependencies would cause spaCy to be\n",
      "downloaded, which probably isn't what you want. If the model package has other\n",
      "dependencies, you'll have to install them manually.\n",
      "[+] Download and installation successful\n",
      "You can now load the model via spacy.load('en_core_web_sm')\n",
      "[['think'], ['sad', 'mom', 'suppose', 'see', 'mom', 'see', 'year', 'tomorrow', 'corona', 'virus', 'shit', 'close', 'frontera', 'able', 'see', 'excited', 'break', 'heart']]\n"
     ]
    }
   ],
   "source": [
    "# Remove Stop Words\n",
    "data_words_nostops = remove_stopwords(data_words)\n",
    "\n",
    "# Form Bigrams\n",
    "data_words_bigrams = make_bigrams(data_words_nostops)\n",
    "\n",
    "# Initialize spacy 'en' model, keeping only tagger component (for efficiency)\n",
    "# python3 -m spacy download en\n",
    "!python -m spacy download en_core_web_sm\n",
    "nlp = spacy.load('en_core_web_sm', disable=['parser', 'ner'])\n",
    "# nlp = en_core_web_sm.load(disable=['parser', 'ner'])\n",
    "\n",
    "# Do lemmatization keeping only noun, adj, vb, adv\n",
    "data_lemmatized = lemmatization(data_words_bigrams, allowed_postags=['NOUN', 'ADJ', 'VERB', 'ADV'])\n",
    "\n",
    "print(data_lemmatized[:2])"
   ]
  },
  {
   "cell_type": "code",
   "execution_count": 10,
   "id": "65fc388a",
   "metadata": {},
   "outputs": [
    {
     "name": "stdout",
     "output_type": "stream",
     "text": [
      "[[(0, 1)], [(1, 1), (2, 1), (3, 1), (4, 1), (5, 1), (6, 1), (7, 1), (8, 2), (9, 1), (10, 3), (11, 1), (12, 1), (13, 1), (14, 1), (15, 1)], [(4, 1), (8, 1), (16, 1), (17, 1), (18, 1), (19, 1), (20, 1), (21, 1), (22, 1)]]\n"
     ]
    }
   ],
   "source": [
    "# Create Dictionary\n",
    "id2word = corpora.Dictionary(data_lemmatized)\n",
    "\n",
    "# Create Corpus\n",
    "texts = data_lemmatized\n",
    "\n",
    "# Term Document Frequency\n",
    "corpus = [id2word.doc2bow(text) for text in texts]\n",
    "\n",
    "# View\n",
    "print(corpus[:3])"
   ]
  },
  {
   "cell_type": "code",
   "execution_count": 11,
   "id": "56d86f72",
   "metadata": {},
   "outputs": [],
   "source": [
    "# Build LDA model\n",
    "lda_model = gensim.models.ldamodel.LdaModel(corpus=corpus,\n",
    "                                           id2word=id2word,\n",
    "                                           num_topics=3, \n",
    "                                           random_state=100,\n",
    "                                           update_every=1,\n",
    "                                           chunksize=100,\n",
    "                                           passes=10,\n",
    "                                           alpha='auto',\n",
    "                                           per_word_topics=True)"
   ]
  },
  {
   "cell_type": "code",
   "execution_count": 12,
   "id": "3359610f",
   "metadata": {},
   "outputs": [
    {
     "name": "stdout",
     "output_type": "stream",
     "text": [
      "[(0,\n",
      "  '0.030*\"time\" + 0.025*\"week\" + 0.025*\"see\" + 0.020*\"take\" + 0.017*\"come\" + '\n",
      "  '0.017*\"thing\" + 0.017*\"test\" + 0.015*\"want\" + 0.015*\"back\" + 0.015*\"life\"'),\n",
      " (1,\n",
      "  '0.036*\"moment\" + 0.014*\"quarantine\" + 0.009*\"health\" + 0.008*\"show\" + '\n",
      "  '0.007*\"world\" + 0.007*\"birthday\" + 0.007*\"face\" + 0.006*\"plan\" + '\n",
      "  '0.006*\"issue\" + 0.006*\"change\"'),\n",
      " (2,\n",
      "  '0.064*\"covid\" + 0.024*\"mom\" + 0.023*\"get\" + 0.019*\"go\" + 0.015*\"pandemic\" + '\n",
      "  '0.013*\"year\" + 0.012*\"amp\" + 0.012*\"die\" + 0.010*\"mother\" + 0.010*\"say\"')]\n"
     ]
    }
   ],
   "source": [
    "# Print the Keyword in the 20 topics\n",
    "pprint(lda_model.print_topics())\n",
    "doc_lda = lda_model[corpus]"
   ]
  },
  {
   "cell_type": "code",
   "execution_count": 13,
   "id": "9ef548ff",
   "metadata": {},
   "outputs": [
    {
     "name": "stdout",
     "output_type": "stream",
     "text": [
      "\n",
      "Perplexity:  -7.574604643657898\n",
      "\n",
      "Coherence Score:  0.25504652499537284\n"
     ]
    }
   ],
   "source": [
    "# Compute Perplexity\n",
    "print('\\nPerplexity: ', lda_model.log_perplexity(corpus))  # a measure of how good the model is. lower the better.\n",
    "\n",
    "# Compute Coherence Score\n",
    "coherence_model_lda = CoherenceModel(model=lda_model, texts=data_lemmatized, dictionary=id2word, coherence='c_v')\n",
    "coherence_lda = coherence_model_lda.get_coherence()\n",
    "print('\\nCoherence Score: ', coherence_lda)"
   ]
  },
  {
   "cell_type": "code",
   "execution_count": 14,
   "id": "f1bf482d",
   "metadata": {},
   "outputs": [
    {
     "name": "stderr",
     "output_type": "stream",
     "text": [
      "C:\\Users\\hshma\\anaconda3\\envs\\D3M\\lib\\site-packages\\pyLDAvis\\_prepare.py:246: FutureWarning: In a future version of pandas all arguments of DataFrame.drop except for the argument 'labels' will be keyword-only\n",
      "  default_term_info = default_term_info.sort_values(\n"
     ]
    },
    {
     "data": {
      "text/html": [
       "\n",
       "<link rel=\"stylesheet\" type=\"text/css\" href=\"https://cdn.jsdelivr.net/gh/bmabey/pyLDAvis@3.3.1/pyLDAvis/js/ldavis.v1.0.0.css\">\n",
       "\n",
       "\n",
       "<div id=\"ldavis_el1053214827075664808521816722\"></div>\n",
       "<script type=\"text/javascript\">\n",
       "\n",
       "var ldavis_el1053214827075664808521816722_data = {\"mdsDat\": {\"x\": [-0.3548669783204853, 0.23584019924003283, 0.11902677908045249], \"y\": [-0.060148533669394315, -0.24401318430541982, 0.30416171797481417], \"topics\": [1, 2, 3], \"cluster\": [1, 1, 1], \"Freq\": [62.501898713874795, 24.2220102593035, 13.276091026821712]}, \"tinfo\": {\"Term\": [\"covid\", \"time\", \"moment\", \"week\", \"see\", \"mom\", \"get\", \"take\", \"come\", \"thing\", \"test\", \"go\", \"want\", \"back\", \"life\", \"live\", \"last\", \"feel\", \"much\", \"month\", \"quarantine\", \"year\", \"really\", \"first\", \"amp\", \"die\", \"normal\", \"trip\", \"cousin\", \"mother\", \"covid\", \"mom\", \"get\", \"go\", \"year\", \"die\", \"amp\", \"mother\", \"say\", \"people\", \"family\", \"day\", \"brother\", \"dad\", \"home\", \"work\", \"today\", \"know\", \"lose\", \"sister\", \"make\", \"still\", \"would\", \"good\", \"think\", \"friend\", \"help\", \"tell\", \"love\", \"need\", \"pandemic\", \"time\", \"week\", \"see\", \"thing\", \"test\", \"come\", \"back\", \"want\", \"life\", \"live\", \"last\", \"feel\", \"month\", \"much\", \"really\", \"trip\", \"normal\", \"first\", \"screen\", \"circle\", \"bad\", \"may\", \"never\", \"brief_moment\", \"positive\", \"prayer\", \"talk\", \"put\", \"watch\", \"little\", \"pass\", \"cousin\", \"take\", \"moment\", \"quarantine\", \"health\", \"show\", \"world\", \"birthday\", \"plan\", \"issue\", \"face\", \"change\", \"support\", \"post\", \"guy\", \"eat\", \"use\", \"story\", \"amazing\", \"proud\", \"remember\", \"team\", \"girl\", \"be\", \"enjoy\", \"nature\", \"food\", \"word\", \"ready\", \"struggle\", \"small\", \"music\"], \"Freq\": [32438.0, 5848.0, 3912.0, 4952.0, 4912.0, 12082.0, 11657.0, 5284.0, 3425.0, 3382.0, 3373.0, 9882.0, 3009.0, 2938.0, 2855.0, 2651.0, 2551.0, 2531.0, 2440.0, 2394.0, 1554.0, 6460.0, 2086.0, 1999.0, 6022.0, 5845.0, 1800.0, 1798.0, 1841.0, 5317.0, 32437.599144769458, 12081.831080259934, 11656.744663381261, 9881.576956385956, 6459.79586040211, 5844.613697855612, 6021.604217279824, 5316.3277607607415, 5200.911760615695, 5121.142524228665, 4821.954586635287, 4997.835591378243, 4765.381629063699, 4715.931878657495, 4336.4632028086935, 4410.091107613197, 4495.688250685577, 4275.929178550169, 4244.542724254221, 4115.953423679747, 4073.8840495853287, 3700.563087273974, 3511.752714600751, 3469.160256571603, 3236.7346585011464, 3149.0950534857056, 3187.409001662829, 3050.252517530175, 3190.6021064410734, 3126.352366206977, 7733.867594685623, 5847.66353985374, 4951.477505674072, 4911.814757615171, 3381.4028892774004, 3373.126793954607, 3425.1540364867733, 2937.5380566289427, 3008.526450213111, 2855.18418454962, 2650.8343944786957, 2550.5836082475817, 2531.100140204274, 2393.618650130182, 2439.8864821903367, 2085.7103104896514, 1798.2254629129116, 1799.9006879457095, 1998.9243469849732, 1506.2985392471799, 1359.4754345162228, 1563.387823037956, 1564.5134335586813, 1622.3088803950523, 1276.4381167911376, 1457.3360388367505, 1573.199724512318, 1416.7907014738796, 1430.0113121521174, 1284.8605927789795, 1268.5169808407247, 1291.701736213169, 1801.1776256620922, 3913.3066233132245, 3911.5212106370464, 1553.3236877735135, 944.8350542703762, 914.1446292720968, 726.6700207531264, 725.4084616013683, 693.7265425875313, 691.564264241976, 710.6502730048973, 632.4547930819492, 597.9271737790806, 600.196243079218, 622.418351229104, 621.3463748909345, 570.4448956618072, 580.5121648047856, 517.3882173182465, 502.230880584056, 515.4225006027758, 496.17241434122974, 516.2508208513412, 488.4935572812013, 482.0703851173192, 503.0928397322783, 436.37193993347546, 486.56198153851665, 465.9945558005577, 457.4415894225801, 415.3825217304181, 441.2560571270869], \"Total\": [32438.0, 5848.0, 3912.0, 4952.0, 4912.0, 12082.0, 11657.0, 5284.0, 3425.0, 3382.0, 3373.0, 9882.0, 3009.0, 2938.0, 2855.0, 2651.0, 2551.0, 2531.0, 2440.0, 2394.0, 1554.0, 6460.0, 2086.0, 1999.0, 6022.0, 5845.0, 1800.0, 1798.0, 1841.0, 5317.0, 32438.35605806746, 12082.578395706463, 11657.492447710278, 9882.336415647018, 6460.562725796842, 5845.341883262796, 6022.369282559402, 5317.065240600822, 5201.6595684497115, 5121.881320433584, 4822.688870777521, 4998.59961239824, 4766.131776650779, 4716.6935829827335, 4337.192775683275, 4410.833634337192, 4496.44726331098, 4276.670049787788, 4245.279047924987, 4116.706744958108, 4074.6463252815443, 3701.315615011099, 3512.509146968713, 3469.909657344301, 3237.483850897124, 3149.8241340090067, 3188.1719120706407, 3050.990579884387, 3191.3747816440737, 3127.1138569483037, 8068.919404867882, 5848.3979494962, 4952.208380475429, 4912.591939629332, 3382.120809750992, 3373.884128785993, 3425.932765393883, 2938.314936837484, 3009.329375638914, 2855.9894679870818, 2651.634578790209, 2551.3541080955974, 2531.887322614021, 2394.396134298711, 2440.6898297249727, 2086.504172772636, 1798.9099619580345, 1800.5886133747617, 1999.6934455288024, 1506.9736976310403, 1360.146060192151, 1564.165543707687, 1565.2946953798612, 1623.1195552998092, 1277.1073535398264, 1458.100707802686, 1574.0517860875007, 1417.5919882724193, 1430.8397900919372, 1285.6283666788459, 1269.2892727623646, 1292.492190760716, 1841.3969236949006, 5284.591174551405, 3912.2744463929575, 1554.1989316976326, 945.6197297058706, 914.9597780545304, 727.439811440432, 726.2013173596093, 694.5002743667983, 692.3839225552189, 711.5128798360957, 633.2352520337905, 598.6731561858592, 600.9784308637148, 623.2338112990694, 622.1629266089673, 571.2044497559332, 581.3116824713261, 518.1398350656577, 502.9817914587969, 516.1947836291749, 496.92835667173904, 517.0433831831847, 489.2760944481329, 482.8435368487961, 503.9290577761944, 437.11591131228863, 487.4047959052947, 466.82473134891075, 458.2592064315812, 416.1492282822885, 442.07350995341807], \"Category\": [\"Default\", \"Default\", \"Default\", \"Default\", \"Default\", \"Default\", \"Default\", \"Default\", \"Default\", \"Default\", \"Default\", \"Default\", \"Default\", \"Default\", \"Default\", \"Default\", \"Default\", \"Default\", \"Default\", \"Default\", \"Default\", \"Default\", \"Default\", \"Default\", \"Default\", \"Default\", \"Default\", \"Default\", \"Default\", \"Default\", \"Topic1\", \"Topic1\", \"Topic1\", \"Topic1\", \"Topic1\", \"Topic1\", \"Topic1\", \"Topic1\", \"Topic1\", \"Topic1\", \"Topic1\", \"Topic1\", \"Topic1\", \"Topic1\", \"Topic1\", \"Topic1\", \"Topic1\", \"Topic1\", \"Topic1\", \"Topic1\", \"Topic1\", \"Topic1\", \"Topic1\", \"Topic1\", \"Topic1\", \"Topic1\", \"Topic1\", \"Topic1\", \"Topic1\", \"Topic1\", \"Topic1\", \"Topic2\", \"Topic2\", \"Topic2\", \"Topic2\", \"Topic2\", \"Topic2\", \"Topic2\", \"Topic2\", \"Topic2\", \"Topic2\", \"Topic2\", \"Topic2\", \"Topic2\", \"Topic2\", \"Topic2\", \"Topic2\", \"Topic2\", \"Topic2\", \"Topic2\", \"Topic2\", \"Topic2\", \"Topic2\", \"Topic2\", \"Topic2\", \"Topic2\", \"Topic2\", \"Topic2\", \"Topic2\", \"Topic2\", \"Topic2\", \"Topic2\", \"Topic2\", \"Topic2\", \"Topic3\", \"Topic3\", \"Topic3\", \"Topic3\", \"Topic3\", \"Topic3\", \"Topic3\", \"Topic3\", \"Topic3\", \"Topic3\", \"Topic3\", \"Topic3\", \"Topic3\", \"Topic3\", \"Topic3\", \"Topic3\", \"Topic3\", \"Topic3\", \"Topic3\", \"Topic3\", \"Topic3\", \"Topic3\", \"Topic3\", \"Topic3\", \"Topic3\", \"Topic3\", \"Topic3\", \"Topic3\", \"Topic3\", \"Topic3\"], \"logprob\": [30.0, 29.0, 28.0, 27.0, 26.0, 25.0, 24.0, 23.0, 22.0, 21.0, 20.0, 19.0, 18.0, 17.0, 16.0, 15.0, 14.0, 13.0, 12.0, 11.0, 10.0, 9.0, 8.0, 7.0, 6.0, 5.0, 4.0, 3.0, 2.0, 1.0, -2.7504, -3.738, -3.7738, -3.939, -4.3641, -4.4642, -4.4343, -4.5589, -4.5809, -4.5963, -4.6565, -4.6207, -4.6683, -4.6787, -4.7626, -4.7458, -4.7266, -4.7767, -4.7841, -4.8148, -4.8251, -4.9212, -4.9736, -4.9858, -5.0551, -5.0826, -5.0705, -5.1145, -5.0695, -5.0898, -4.1841, -3.5157, -3.6821, -3.6901, -4.0635, -4.0659, -4.0506, -4.2042, -4.1803, -4.2326, -4.3069, -4.3454, -4.3531, -4.4089, -4.3898, -4.5466, -4.695, -4.694, -4.5891, -4.8721, -4.9747, -4.8349, -4.8342, -4.7979, -5.0377, -4.9051, -4.8286, -4.9334, -4.9241, -5.0311, -5.0439, -5.0258, -4.6933, -3.9174, -3.3165, -4.2401, -4.7372, -4.7702, -4.9997, -5.0015, -5.0461, -5.0493, -5.022, -5.1386, -5.1947, -5.191, -5.1546, -5.1563, -5.2418, -5.2243, -5.3394, -5.3692, -5.3432, -5.3813, -5.3416, -5.3969, -5.4101, -5.3674, -5.5097, -5.4008, -5.444, -5.4626, -5.559, -5.4986], \"loglift\": [30.0, 29.0, 28.0, 27.0, 26.0, 25.0, 24.0, 23.0, 22.0, 21.0, 20.0, 19.0, 18.0, 17.0, 16.0, 15.0, 14.0, 13.0, 12.0, 11.0, 10.0, 9.0, 8.0, 7.0, 6.0, 5.0, 4.0, 3.0, 2.0, 1.0, 0.4699, 0.4699, 0.4699, 0.4699, 0.4699, 0.4698, 0.4698, 0.4698, 0.4698, 0.4698, 0.4698, 0.4698, 0.4698, 0.4698, 0.4698, 0.4698, 0.4698, 0.4698, 0.4698, 0.4698, 0.4698, 0.4698, 0.4698, 0.4698, 0.4697, 0.4697, 0.4697, 0.4697, 0.4697, 0.4697, 0.4276, 1.4178, 1.4178, 1.4178, 1.4177, 1.4177, 1.4177, 1.4176, 1.4176, 1.4176, 1.4176, 1.4176, 1.4176, 1.4176, 1.4176, 1.4175, 1.4175, 1.4175, 1.4175, 1.4175, 1.4174, 1.4174, 1.4174, 1.4174, 1.4174, 1.4174, 1.4174, 1.4173, 1.4173, 1.4173, 1.4173, 1.4173, 1.3958, 1.1175, 2.019, 2.0186, 2.0184, 2.0183, 2.0181, 2.0181, 2.0181, 2.018, 2.018, 2.018, 2.018, 2.0179, 2.0179, 2.0179, 2.0179, 2.0178, 2.0178, 2.0177, 2.0177, 2.0177, 2.0177, 2.0176, 2.0176, 2.0175, 2.0175, 2.0175, 2.0174, 2.0174, 2.0174, 2.0174]}, \"token.table\": {\"Topic\": [3, 1, 2, 2, 3, 3, 2, 1, 3, 2, 2, 1, 2, 1, 1, 1, 1, 3, 3, 3, 1, 2, 2, 3, 1, 1, 3, 1, 1, 3, 3, 1, 1, 3, 1, 2, 2, 2, 2, 1, 1, 1, 2, 1, 3, 2, 1, 2, 3, 3, 1, 2, 2, 1, 3, 2, 1, 3, 2, 3, 2, 3, 2, 3, 3, 2, 3, 1, 2, 2, 3, 1, 3, 1, 3, 3, 3, 1, 2, 2, 3, 1, 2, 2, 1, 2, 1, 2, 3, 2, 2, 2, 3, 1, 3, 1, 1], \"Freq\": [0.9978001400615854, 0.9999386815151852, 0.9998928171948025, 0.9992548463221328, 0.9973918724772928, 0.9983457516106179, 0.9991329205514657, 0.9997625376922384, 0.9980492999563382, 0.9991573991752113, 0.9997277338880363, 0.02172263865833826, 0.9780618055916803, 0.9999890235477155, 0.9998529514435206, 0.9998800439233514, 0.9999415118448803, 0.9981308326818737, 0.9982529809670825, 0.9992791699902693, 0.9998571604356037, 0.999649541033641, 0.9996532240827448, 0.9974471043414126, 0.9997383555481373, 0.9999577569779705, 0.9979820200448924, 0.9999659578835542, 0.9997378440841029, 0.9980203075046624, 0.9993446311594373, 0.9996324187957983, 0.9997249890090286, 0.9994455062535219, 0.9998433244136238, 0.9998612077819877, 0.9996535463459607, 0.9997720986314372, 0.9997606839210482, 0.9999342686495194, 0.9998825642020394, 0.9998413788019995, 0.9998117316945294, 0.9999521297783038, 0.9999298499129552, 0.9998345577437934, 0.9997996562854471, 0.9997173628059693, 0.9975716483135776, 0.9981563718903327, 0.999643806717869, 0.9993102447098529, 0.9996730994684796, 0.9584926570631218, 0.041517331279563724, 0.9996191924684462, 0.9998279303290243, 0.9992796628233813, 0.999245108519051, 0.9983719368059372, 0.9993317970242167, 0.9980480576524462, 0.9994130788801426, 0.9992285854319028, 0.9982333169313296, 0.9997583648385586, 0.9976854015827613, 0.9998732003813336, 0.9993538721793414, 0.9998795056384479, 0.9989510161238222, 0.9998283227341919, 0.9972384226518163, 0.9999147289656092, 0.9994638289910138, 0.9972521961066827, 0.9988755864883807, 0.259433502936276, 0.7404546294599912, 0.9995823986892444, 0.9981318098287711, 0.9996753251580264, 0.9997379492738206, 0.9996686074170501, 0.9998505472399531, 0.999931955810867, 0.9999005296215461, 0.9994941592535048, 0.9978913859014091, 0.9998905484917735, 0.9995112376989089, 0.9997559915935296, 0.9991694872338241, 0.9998110029970974, 0.9993953981710719, 0.9998550475038186, 0.9999128983308846], \"Term\": [\"amazing\", \"amp\", \"back\", \"bad\", \"be\", \"birthday\", \"brief_moment\", \"brother\", \"change\", \"circle\", \"come\", \"cousin\", \"cousin\", \"covid\", \"dad\", \"day\", \"die\", \"eat\", \"enjoy\", \"face\", \"family\", \"feel\", \"first\", \"food\", \"friend\", \"get\", \"girl\", \"go\", \"good\", \"guy\", \"health\", \"help\", \"home\", \"issue\", \"know\", \"last\", \"life\", \"little\", \"live\", \"lose\", \"love\", \"make\", \"may\", \"mom\", \"moment\", \"month\", \"mother\", \"much\", \"music\", \"nature\", \"need\", \"never\", \"normal\", \"pandemic\", \"pandemic\", \"pass\", \"people\", \"plan\", \"positive\", \"post\", \"prayer\", \"proud\", \"put\", \"quarantine\", \"ready\", \"really\", \"remember\", \"say\", \"screen\", \"see\", \"show\", \"sister\", \"small\", \"still\", \"story\", \"struggle\", \"support\", \"take\", \"take\", \"talk\", \"team\", \"tell\", \"test\", \"thing\", \"think\", \"time\", \"today\", \"trip\", \"use\", \"want\", \"watch\", \"week\", \"word\", \"work\", \"world\", \"would\", \"year\"]}, \"R\": 30, \"lambda.step\": 0.01, \"plot.opts\": {\"xlab\": \"PC1\", \"ylab\": \"PC2\"}, \"topic.order\": [3, 1, 2]};\n",
       "\n",
       "function LDAvis_load_lib(url, callback){\n",
       "  var s = document.createElement('script');\n",
       "  s.src = url;\n",
       "  s.async = true;\n",
       "  s.onreadystatechange = s.onload = callback;\n",
       "  s.onerror = function(){console.warn(\"failed to load library \" + url);};\n",
       "  document.getElementsByTagName(\"head\")[0].appendChild(s);\n",
       "}\n",
       "\n",
       "if(typeof(LDAvis) !== \"undefined\"){\n",
       "   // already loaded: just create the visualization\n",
       "   !function(LDAvis){\n",
       "       new LDAvis(\"#\" + \"ldavis_el1053214827075664808521816722\", ldavis_el1053214827075664808521816722_data);\n",
       "   }(LDAvis);\n",
       "}else if(typeof define === \"function\" && define.amd){\n",
       "   // require.js is available: use it to load d3/LDAvis\n",
       "   require.config({paths: {d3: \"https://d3js.org/d3.v5\"}});\n",
       "   require([\"d3\"], function(d3){\n",
       "      window.d3 = d3;\n",
       "      LDAvis_load_lib(\"https://cdn.jsdelivr.net/gh/bmabey/pyLDAvis@3.3.1/pyLDAvis/js/ldavis.v3.0.0.js\", function(){\n",
       "        new LDAvis(\"#\" + \"ldavis_el1053214827075664808521816722\", ldavis_el1053214827075664808521816722_data);\n",
       "      });\n",
       "    });\n",
       "}else{\n",
       "    // require.js not available: dynamically load d3 & LDAvis\n",
       "    LDAvis_load_lib(\"https://d3js.org/d3.v5.js\", function(){\n",
       "         LDAvis_load_lib(\"https://cdn.jsdelivr.net/gh/bmabey/pyLDAvis@3.3.1/pyLDAvis/js/ldavis.v3.0.0.js\", function(){\n",
       "                 new LDAvis(\"#\" + \"ldavis_el1053214827075664808521816722\", ldavis_el1053214827075664808521816722_data);\n",
       "            })\n",
       "         });\n",
       "}\n",
       "</script>"
      ],
      "text/plain": [
       "PreparedData(topic_coordinates=              x         y  topics  cluster       Freq\n",
       "topic                                                \n",
       "2     -0.354867 -0.060149       1        1  62.501899\n",
       "0      0.235840 -0.244013       2        1  24.222010\n",
       "1      0.119027  0.304162       3        1  13.276091, topic_info=          Term          Freq         Total Category  logprob  loglift\n",
       "140      covid  32438.000000  32438.000000  Default  30.0000  30.0000\n",
       "74        time   5848.000000   5848.000000  Default  29.0000  29.0000\n",
       "128     moment   3912.000000   3912.000000  Default  28.0000  28.0000\n",
       "225       week   4952.000000   4952.000000  Default  27.0000  27.0000\n",
       "10         see   4912.000000   4912.000000  Default  26.0000  26.0000\n",
       "...        ...           ...           ...      ...      ...      ...\n",
       "1647      word    486.561982    487.404796   Topic3  -5.4008   2.0175\n",
       "129      ready    465.994556    466.824731   Topic3  -5.4440   2.0174\n",
       "915   struggle    457.441589    458.259206   Topic3  -5.4626   2.0174\n",
       "371      small    415.382522    416.149228   Topic3  -5.5590   2.0174\n",
       "1909     music    441.256057    442.073510   Topic3  -5.4986   2.0174\n",
       "\n",
       "[124 rows x 6 columns], token_table=      Topic      Freq     Term\n",
       "term                          \n",
       "308       3  0.997800  amazing\n",
       "41        1  0.999939      amp\n",
       "205       2  0.999893     back\n",
       "206       2  0.999255      bad\n",
       "24        3  0.997392       be\n",
       "...     ...       ...      ...\n",
       "1647      3  0.999169     word\n",
       "110       1  0.999811     work\n",
       "337       3  0.999395    world\n",
       "36        1  0.999855    would\n",
       "15        1  0.999913     year\n",
       "\n",
       "[97 rows x 3 columns], R=30, lambda_step=0.01, plot_opts={'xlab': 'PC1', 'ylab': 'PC2'}, topic_order=[3, 1, 2])"
      ]
     },
     "execution_count": 14,
     "metadata": {},
     "output_type": "execute_result"
    }
   ],
   "source": [
    "# Visualize the topics\n",
    "pyLDAvis.enable_notebook()\n",
    "vis = pyLDAvis.gensim_models.prepare(lda_model, corpus, id2word)\n",
    "vis"
   ]
  },
  {
   "cell_type": "code",
   "execution_count": 15,
   "id": "0dc73e65",
   "metadata": {},
   "outputs": [],
   "source": [
    "def compute_coherence_values(dictionary, corpus, texts, limit, start=2, step=3):    \n",
    "    coherence_values = []\n",
    "    model_list = []\n",
    "    for num_topics in range(start, limit, step):\n",
    "        model = gensim.models.ldamodel.LdaModel(corpus=corpus,\n",
    "                                           id2word=dictionary,\n",
    "                                           num_topics=num_topics, \n",
    "                                           random_state=100,\n",
    "                                           update_every=1,\n",
    "                                           chunksize=100,\n",
    "                                           passes=10,\n",
    "                                           alpha='auto',\n",
    "                                           per_word_topics=True)\n",
    "        model_list.append(model)\n",
    "        coherencemodel = CoherenceModel(model=model, texts=texts, dictionary=dictionary, coherence='c_v')\n",
    "        coherence_values.append(coherencemodel.get_coherence())\n",
    "        print(\"done num_topics={}\".format(num_topics))\n",
    "\n",
    "    return model_list, coherence_values"
   ]
  },
  {
   "cell_type": "code",
   "execution_count": 16,
   "id": "3020bf1e",
   "metadata": {},
   "outputs": [
    {
     "name": "stdout",
     "output_type": "stream",
     "text": [
      "done num_topics=2\n",
      "done num_topics=3\n",
      "done num_topics=4\n",
      "done num_topics=5\n",
      "done num_topics=6\n",
      "done num_topics=7\n",
      "done num_topics=8\n",
      "done num_topics=9\n"
     ]
    }
   ],
   "source": [
    "model_list, coherence_values = compute_coherence_values(dictionary=id2word, corpus=corpus, texts=data_lemmatized, start=2, limit=10, step=1)"
   ]
  },
  {
   "cell_type": "code",
   "execution_count": 21,
   "id": "823fd395",
   "metadata": {},
   "outputs": [
    {
     "data": {
      "image/png": "[encoded data removed]",
      "text/plain": [
       "<Figure size 432x288 with 1 Axes>"
      ]
     },
     "metadata": {
      "needs_background": "light"
     },
     "output_type": "display_data"
    }
   ],
   "source": [
    "# Show graph\n",
    "limit=10; start=2; step=1;\n",
    "x = range(start, limit, step)\n",
    "plt.plot(x, coherence_values)\n",
    "plt.xlabel(\"Num Topics\")\n",
    "plt.ylabel(\"Coherence score\")\n",
    "plt.legend((\"coherence_values\"), loc='best')\n",
    "plt.show()"
   ]
  },
  {
   "cell_type": "code",
   "execution_count": 22,
   "id": "02bdd7bd",
   "metadata": {},
   "outputs": [
    {
     "name": "stdout",
     "output_type": "stream",
     "text": [
      "Num Topics = 2  has Coherence Value of 0.317\n",
      "Num Topics = 3  has Coherence Value of 0.255\n",
      "Num Topics = 4  has Coherence Value of 0.2657\n",
      "Num Topics = 5  has Coherence Value of 0.2373\n",
      "Num Topics = 6  has Coherence Value of 0.2771\n",
      "Num Topics = 7  has Coherence Value of 0.2648\n",
      "Num Topics = 8  has Coherence Value of 0.2813\n",
      "Num Topics = 9  has Coherence Value of 0.2576\n"
     ]
    }
   ],
   "source": [
    "# Print the coherence scores\n",
    "for m, cv in zip(x, coherence_values):\n",
    "    print(\"Num Topics =\", m, \" has Coherence Value of\", round(cv, 4))"
   ]
  },
  {
   "cell_type": "code",
   "execution_count": 24,
   "id": "d8a4a31b",
   "metadata": {},
   "outputs": [
    {
     "name": "stdout",
     "output_type": "stream",
     "text": [
      "[(0,\n",
      "  '0.052*\"covid\" + 0.019*\"mom\" + 0.019*\"get\" + 0.016*\"go\" + 0.010*\"year\" + '\n",
      "  '0.010*\"time\" + 0.009*\"die\" + 0.009*\"take\" + 0.008*\"mother\" + 0.008*\"say\"'),\n",
      " (1,\n",
      "  '0.040*\"pandemic\" + 0.020*\"moment\" + 0.016*\"help\" + 0.012*\"kid\" + '\n",
      "  '0.009*\"new\" + 0.008*\"child\" + 0.008*\"amp\" + 0.008*\"school\" + 0.006*\"job\" + '\n",
      "  '0.005*\"state\"')]\n"
     ]
    }
   ],
   "source": [
    "optimal_model = model_list[0]\n",
    "model_topics = optimal_model.show_topics(formatted=False)\n",
    "pprint(optimal_model.print_topics(num_words=10))"
   ]
  },
  {
   "cell_type": "code",
   "execution_count": 43,
   "id": "ac56d0a0",
   "metadata": {},
   "outputs": [
    {
     "name": "stdout",
     "output_type": "stream",
     "text": [
      "([(0, 0.8580689), (1, 0.14193107)], [(4, [0]), (23, [0]), (24, [0]), (25, [0])], [(4, [(0, 0.99988383)]), (23, [(0, 0.9996254)]), (24, [(0, 0.9995811)]), (25, [(0, 0.9972767)])])\n",
      "[(0, 0.8580689), (1, 0.14193107)]\n"
     ]
    }
   ],
   "source": [
    "# optimal_model[corpus][0]\n",
    "print(optimal_model[corpus][3])\n",
    "# print(optimal_model[corpus][4])\n",
    "# print(sorted(optimal_model[corpus][3], key=lambda x: (x[1]), reverse=True))\n",
    "tst=optimal_model[corpus][3][0]\n",
    "print(sorted(tst, key=lambda x: (x[1]), reverse=True))"
   ]
  },
  {
   "cell_type": "code",
   "execution_count": 44,
   "id": "a95f61a3",
   "metadata": {},
   "outputs": [
    {
     "data": {
      "text/html": [
       "<div>\n",
       "<style scoped>\n",
       "    .dataframe tbody tr th:only-of-type {\n",
       "        vertical-align: middle;\n",
       "    }\n",
       "\n",
       "    .dataframe tbody tr th {\n",
       "        vertical-align: top;\n",
       "    }\n",
       "\n",
       "    .dataframe thead th {\n",
       "        text-align: right;\n",
       "    }\n",
       "</style>\n",
       "<table border=\"1\" class=\"dataframe\">\n",
       "  <thead>\n",
       "    <tr style=\"text-align: right;\">\n",
       "      <th></th>\n",
       "      <th>Document_No</th>\n",
       "      <th>Dominant_Topic</th>\n",
       "      <th>Topic_Perc_Contrib</th>\n",
       "      <th>Keywords</th>\n",
       "      <th>Text</th>\n",
       "    </tr>\n",
       "  </thead>\n",
       "  <tbody>\n",
       "    <tr>\n",
       "      <th>0</th>\n",
       "      <td>0</td>\n",
       "      <td>0.0</td>\n",
       "      <td>0.8010</td>\n",
       "      <td>covid, mom, get, go, year, time, die, take, mo...</td>\n",
       "      <td>They think my sister has Corona 👀</td>\n",
       "    </tr>\n",
       "    <tr>\n",
       "      <th>1</th>\n",
       "      <td>1</td>\n",
       "      <td>0.0</td>\n",
       "      <td>0.9350</td>\n",
       "      <td>covid, mom, get, go, year, time, die, take, mo...</td>\n",
       "      <td>It’s a sad day 😔 my mom was suppose to see her...</td>\n",
       "    </tr>\n",
       "    <tr>\n",
       "      <th>2</th>\n",
       "      <td>2</td>\n",
       "      <td>0.0</td>\n",
       "      <td>0.8284</td>\n",
       "      <td>covid, mom, get, go, year, time, die, take, mo...</td>\n",
       "      <td>Did I really just hear my mom say “You got coc...</td>\n",
       "    </tr>\n",
       "    <tr>\n",
       "      <th>3</th>\n",
       "      <td>3</td>\n",
       "      <td>0.0</td>\n",
       "      <td>0.8581</td>\n",
       "      <td>covid, mom, get, go, year, time, die, take, mo...</td>\n",
       "      <td>@_abigailelainee @Bubba_Dade We already had th...</td>\n",
       "    </tr>\n",
       "    <tr>\n",
       "      <th>4</th>\n",
       "      <td>4</td>\n",
       "      <td>0.0</td>\n",
       "      <td>0.6324</td>\n",
       "      <td>covid, mom, get, go, year, time, die, take, mo...</td>\n",
       "      <td>How would you like to #quarantine here at our ...</td>\n",
       "    </tr>\n",
       "    <tr>\n",
       "      <th>5</th>\n",
       "      <td>5</td>\n",
       "      <td>0.0</td>\n",
       "      <td>0.7558</td>\n",
       "      <td>covid, mom, get, go, year, time, die, take, mo...</td>\n",
       "      <td>This corona virus killing all the hoes shuga d...</td>\n",
       "    </tr>\n",
       "    <tr>\n",
       "      <th>6</th>\n",
       "      <td>6</td>\n",
       "      <td>0.0</td>\n",
       "      <td>0.6893</td>\n",
       "      <td>covid, mom, get, go, year, time, die, take, mo...</td>\n",
       "      <td>.@RandPaul i thought your father said Corona V...</td>\n",
       "    </tr>\n",
       "    <tr>\n",
       "      <th>7</th>\n",
       "      <td>7</td>\n",
       "      <td>0.0</td>\n",
       "      <td>0.8432</td>\n",
       "      <td>covid, mom, get, go, year, time, die, take, mo...</td>\n",
       "      <td>@____akua Look like Corona Grandpa 👴</td>\n",
       "    </tr>\n",
       "    <tr>\n",
       "      <th>8</th>\n",
       "      <td>8</td>\n",
       "      <td>0.0</td>\n",
       "      <td>0.8430</td>\n",
       "      <td>covid, mom, get, go, year, time, die, take, mo...</td>\n",
       "      <td>@OwnerOfABoner_ @WubsNet @Bellacats1953 @MomKi...</td>\n",
       "    </tr>\n",
       "    <tr>\n",
       "      <th>9</th>\n",
       "      <td>9</td>\n",
       "      <td>0.0</td>\n",
       "      <td>0.8687</td>\n",
       "      <td>covid, mom, get, go, year, time, die, take, mo...</td>\n",
       "      <td>So my mom just told me they aren’t testing any...</td>\n",
       "    </tr>\n",
       "  </tbody>\n",
       "</table>\n",
       "</div>"
      ],
      "text/plain": [
       "   Document_No  Dominant_Topic  Topic_Perc_Contrib  \\\n",
       "0            0             0.0              0.8010   \n",
       "1            1             0.0              0.9350   \n",
       "2            2             0.0              0.8284   \n",
       "3            3             0.0              0.8581   \n",
       "4            4             0.0              0.6324   \n",
       "5            5             0.0              0.7558   \n",
       "6            6             0.0              0.6893   \n",
       "7            7             0.0              0.8432   \n",
       "8            8             0.0              0.8430   \n",
       "9            9             0.0              0.8687   \n",
       "\n",
       "                                            Keywords  \\\n",
       "0  covid, mom, get, go, year, time, die, take, mo...   \n",
       "1  covid, mom, get, go, year, time, die, take, mo...   \n",
       "2  covid, mom, get, go, year, time, die, take, mo...   \n",
       "3  covid, mom, get, go, year, time, die, take, mo...   \n",
       "4  covid, mom, get, go, year, time, die, take, mo...   \n",
       "5  covid, mom, get, go, year, time, die, take, mo...   \n",
       "6  covid, mom, get, go, year, time, die, take, mo...   \n",
       "7  covid, mom, get, go, year, time, die, take, mo...   \n",
       "8  covid, mom, get, go, year, time, die, take, mo...   \n",
       "9  covid, mom, get, go, year, time, die, take, mo...   \n",
       "\n",
       "                                                Text  \n",
       "0                  They think my sister has Corona 👀  \n",
       "1  It’s a sad day 😔 my mom was suppose to see her...  \n",
       "2  Did I really just hear my mom say “You got coc...  \n",
       "3  @_abigailelainee @Bubba_Dade We already had th...  \n",
       "4  How would you like to #quarantine here at our ...  \n",
       "5  This corona virus killing all the hoes shuga d...  \n",
       "6  .@RandPaul i thought your father said Corona V...  \n",
       "7               @____akua Look like Corona Grandpa 👴  \n",
       "8  @OwnerOfABoner_ @WubsNet @Bellacats1953 @MomKi...  \n",
       "9  So my mom just told me they aren’t testing any...  "
      ]
     },
     "execution_count": 44,
     "metadata": {},
     "output_type": "execute_result"
    }
   ],
   "source": [
    "def format_topics_sentences(ldamodel=lda_model, corpus=corpus, texts=data):\n",
    "    # Init output\n",
    "    sent_topics_df = pd.DataFrame()\n",
    "\n",
    "    # Get main topic in each document\n",
    "    for i, row in enumerate(ldamodel[corpus]):\n",
    "        row = row[0]\n",
    "        row = sorted(row, key=lambda x: (x[1]), reverse=True)\n",
    "        # Get the Dominant topic, Perc Contribution and Keywords for each document\n",
    "        for j, (topic_num, prop_topic) in enumerate(row):\n",
    "            if j == 0:  # => dominant topic\n",
    "                wp = ldamodel.show_topic(topic_num)\n",
    "                topic_keywords = \", \".join([word for word, prop in wp])\n",
    "                sent_topics_df = sent_topics_df.append(pd.Series([int(topic_num), round(prop_topic,4), topic_keywords]), ignore_index=True)\n",
    "            else:\n",
    "                break\n",
    "    sent_topics_df.columns = ['Dominant_Topic', 'Perc_Contribution', 'Topic_Keywords']\n",
    "\n",
    "    # Add original text to the end of the output\n",
    "    contents = pd.Series(texts)\n",
    "    sent_topics_df = pd.concat([sent_topics_df, contents], axis=1)\n",
    "    return(sent_topics_df)\n",
    "\n",
    "\n",
    "df_topic_sents_keywords = format_topics_sentences(ldamodel=optimal_model, corpus=corpus, texts=data)\n",
    "\n",
    "# Format\n",
    "df_dominant_topic = df_topic_sents_keywords.reset_index()\n",
    "df_dominant_topic.columns = ['Document_No', 'Dominant_Topic', 'Topic_Perc_Contrib', 'Keywords', 'Text']\n",
    "\n",
    "# Show\n",
    "df_dominant_topic.head(10)"
   ]
  },
  {
   "cell_type": "code",
   "execution_count": 45,
   "id": "9c59bf96",
   "metadata": {},
   "outputs": [
    {
     "data": {
      "text/html": [
       "<div>\n",
       "<style scoped>\n",
       "    .dataframe tbody tr th:only-of-type {\n",
       "        vertical-align: middle;\n",
       "    }\n",
       "\n",
       "    .dataframe tbody tr th {\n",
       "        vertical-align: top;\n",
       "    }\n",
       "\n",
       "    .dataframe thead th {\n",
       "        text-align: right;\n",
       "    }\n",
       "</style>\n",
       "<table border=\"1\" class=\"dataframe\">\n",
       "  <thead>\n",
       "    <tr style=\"text-align: right;\">\n",
       "      <th></th>\n",
       "      <th>Topic_Num</th>\n",
       "      <th>Topic_Perc_Contrib</th>\n",
       "      <th>Keywords</th>\n",
       "      <th>Text</th>\n",
       "    </tr>\n",
       "  </thead>\n",
       "  <tbody>\n",
       "    <tr>\n",
       "      <th>0</th>\n",
       "      <td>0.0</td>\n",
       "      <td>0.9562</td>\n",
       "      <td>covid, mom, get, go, year, time, die, take, mo...</td>\n",
       "      <td>Little did I know a year ago today would be th...</td>\n",
       "    </tr>\n",
       "    <tr>\n",
       "      <th>1</th>\n",
       "      <td>1.0</td>\n",
       "      <td>0.7898</td>\n",
       "      <td>pandemic, moment, help, kid, new, child, amp, ...</td>\n",
       "      <td>@shaygribbs13 wrote this great article about s...</td>\n",
       "    </tr>\n",
       "  </tbody>\n",
       "</table>\n",
       "</div>"
      ],
      "text/plain": [
       "   Topic_Num  Topic_Perc_Contrib  \\\n",
       "0        0.0              0.9562   \n",
       "1        1.0              0.7898   \n",
       "\n",
       "                                            Keywords  \\\n",
       "0  covid, mom, get, go, year, time, die, take, mo...   \n",
       "1  pandemic, moment, help, kid, new, child, amp, ...   \n",
       "\n",
       "                                                Text  \n",
       "0  Little did I know a year ago today would be th...  \n",
       "1  @shaygribbs13 wrote this great article about s...  "
      ]
     },
     "execution_count": 45,
     "metadata": {},
     "output_type": "execute_result"
    }
   ],
   "source": [
    "# Group top 5 sentences under each topic\n",
    "sent_topics_sorteddf_mallet = pd.DataFrame()\n",
    "\n",
    "sent_topics_outdf_grpd = df_topic_sents_keywords.groupby('Dominant_Topic')\n",
    "\n",
    "for i, grp in sent_topics_outdf_grpd:\n",
    "    sent_topics_sorteddf_mallet = pd.concat([sent_topics_sorteddf_mallet, \n",
    "                                             grp.sort_values(['Perc_Contribution'], ascending=[0]).head(1)], \n",
    "                                            axis=0)\n",
    "\n",
    "# Reset Index    \n",
    "sent_topics_sorteddf_mallet.reset_index(drop=True, inplace=True)\n",
    "\n",
    "# Format\n",
    "sent_topics_sorteddf_mallet.columns = ['Topic_Num', \"Topic_Perc_Contrib\", \"Keywords\", \"Text\"]\n",
    "\n",
    "# Show\n",
    "sent_topics_sorteddf_mallet.head()"
   ]
  },
  {
   "cell_type": "code",
   "execution_count": 47,
   "id": "50e9b273",
   "metadata": {},
   "outputs": [
    {
     "data": {
      "text/html": [
       "<div>\n",
       "<style scoped>\n",
       "    .dataframe tbody tr th:only-of-type {\n",
       "        vertical-align: middle;\n",
       "    }\n",
       "\n",
       "    .dataframe tbody tr th {\n",
       "        vertical-align: top;\n",
       "    }\n",
       "\n",
       "    .dataframe thead th {\n",
       "        text-align: right;\n",
       "    }\n",
       "</style>\n",
       "<table border=\"1\" class=\"dataframe\">\n",
       "  <thead>\n",
       "    <tr style=\"text-align: right;\">\n",
       "      <th></th>\n",
       "      <th>Dominant_Topic</th>\n",
       "      <th>Topic_Keywords</th>\n",
       "      <th>Num_Documents</th>\n",
       "      <th>Perc_Documents</th>\n",
       "    </tr>\n",
       "  </thead>\n",
       "  <tbody>\n",
       "    <tr>\n",
       "      <th>0.0</th>\n",
       "      <td>0.0</td>\n",
       "      <td>covid, mom, get, go, year, time, die, take, mo...</td>\n",
       "      <td>61972.0</td>\n",
       "      <td>0.9582</td>\n",
       "    </tr>\n",
       "    <tr>\n",
       "      <th>1.0</th>\n",
       "      <td>0.0</td>\n",
       "      <td>covid, mom, get, go, year, time, die, take, mo...</td>\n",
       "      <td>2705.0</td>\n",
       "      <td>0.0418</td>\n",
       "    </tr>\n",
       "    <tr>\n",
       "      <th>2.0</th>\n",
       "      <td>0.0</td>\n",
       "      <td>covid, mom, get, go, year, time, die, take, mo...</td>\n",
       "      <td>NaN</td>\n",
       "      <td>NaN</td>\n",
       "    </tr>\n",
       "    <tr>\n",
       "      <th>3.0</th>\n",
       "      <td>0.0</td>\n",
       "      <td>covid, mom, get, go, year, time, die, take, mo...</td>\n",
       "      <td>NaN</td>\n",
       "      <td>NaN</td>\n",
       "    </tr>\n",
       "    <tr>\n",
       "      <th>4.0</th>\n",
       "      <td>0.0</td>\n",
       "      <td>covid, mom, get, go, year, time, die, take, mo...</td>\n",
       "      <td>NaN</td>\n",
       "      <td>NaN</td>\n",
       "    </tr>\n",
       "    <tr>\n",
       "      <th>...</th>\n",
       "      <td>...</td>\n",
       "      <td>...</td>\n",
       "      <td>...</td>\n",
       "      <td>...</td>\n",
       "    </tr>\n",
       "    <tr>\n",
       "      <th>64672.0</th>\n",
       "      <td>0.0</td>\n",
       "      <td>covid, mom, get, go, year, time, die, take, mo...</td>\n",
       "      <td>NaN</td>\n",
       "      <td>NaN</td>\n",
       "    </tr>\n",
       "    <tr>\n",
       "      <th>64673.0</th>\n",
       "      <td>0.0</td>\n",
       "      <td>covid, mom, get, go, year, time, die, take, mo...</td>\n",
       "      <td>NaN</td>\n",
       "      <td>NaN</td>\n",
       "    </tr>\n",
       "    <tr>\n",
       "      <th>64674.0</th>\n",
       "      <td>0.0</td>\n",
       "      <td>covid, mom, get, go, year, time, die, take, mo...</td>\n",
       "      <td>NaN</td>\n",
       "      <td>NaN</td>\n",
       "    </tr>\n",
       "    <tr>\n",
       "      <th>64675.0</th>\n",
       "      <td>0.0</td>\n",
       "      <td>covid, mom, get, go, year, time, die, take, mo...</td>\n",
       "      <td>NaN</td>\n",
       "      <td>NaN</td>\n",
       "    </tr>\n",
       "    <tr>\n",
       "      <th>64676.0</th>\n",
       "      <td>0.0</td>\n",
       "      <td>covid, mom, get, go, year, time, die, take, mo...</td>\n",
       "      <td>NaN</td>\n",
       "      <td>NaN</td>\n",
       "    </tr>\n",
       "  </tbody>\n",
       "</table>\n",
       "<p>64677 rows × 4 columns</p>\n",
       "</div>"
      ],
      "text/plain": [
       "         Dominant_Topic                                     Topic_Keywords  \\\n",
       "0.0                 0.0  covid, mom, get, go, year, time, die, take, mo...   \n",
       "1.0                 0.0  covid, mom, get, go, year, time, die, take, mo...   \n",
       "2.0                 0.0  covid, mom, get, go, year, time, die, take, mo...   \n",
       "3.0                 0.0  covid, mom, get, go, year, time, die, take, mo...   \n",
       "4.0                 0.0  covid, mom, get, go, year, time, die, take, mo...   \n",
       "...                 ...                                                ...   \n",
       "64672.0             0.0  covid, mom, get, go, year, time, die, take, mo...   \n",
       "64673.0             0.0  covid, mom, get, go, year, time, die, take, mo...   \n",
       "64674.0             0.0  covid, mom, get, go, year, time, die, take, mo...   \n",
       "64675.0             0.0  covid, mom, get, go, year, time, die, take, mo...   \n",
       "64676.0             0.0  covid, mom, get, go, year, time, die, take, mo...   \n",
       "\n",
       "         Num_Documents  Perc_Documents  \n",
       "0.0            61972.0          0.9582  \n",
       "1.0             2705.0          0.0418  \n",
       "2.0                NaN             NaN  \n",
       "3.0                NaN             NaN  \n",
       "4.0                NaN             NaN  \n",
       "...                ...             ...  \n",
       "64672.0            NaN             NaN  \n",
       "64673.0            NaN             NaN  \n",
       "64674.0            NaN             NaN  \n",
       "64675.0            NaN             NaN  \n",
       "64676.0            NaN             NaN  \n",
       "\n",
       "[64677 rows x 4 columns]"
      ]
     },
     "execution_count": 47,
     "metadata": {},
     "output_type": "execute_result"
    }
   ],
   "source": [
    "# Number of Documents for Each Topic\n",
    "topic_counts = df_topic_sents_keywords['Dominant_Topic'].value_counts()\n",
    "\n",
    "# Percentage of Documents for Each Topic\n",
    "topic_contribution = round(topic_counts/topic_counts.sum(), 4)\n",
    "\n",
    "# Topic Number and Keywords\n",
    "topic_num_keywords = df_topic_sents_keywords[['Dominant_Topic', 'Topic_Keywords']]\n",
    "\n",
    "# Concatenate Column wise\n",
    "df_dominant_topics = pd.concat([topic_num_keywords, topic_counts, topic_contribution], axis=1)\n",
    "\n",
    "# Change Column names\n",
    "df_dominant_topics.columns = ['Dominant_Topic', 'Topic_Keywords', 'Num_Documents', 'Perc_Documents']\n",
    "\n",
    "# Show\n",
    "df_dominant_topics"
   ]
  },
  {
   "cell_type": "code",
   "execution_count": null,
   "id": "656336f4",
   "metadata": {},
   "outputs": [],
   "source": []
  },
  {
   "cell_type": "code",
   "execution_count": null,
   "id": "8412854f",
   "metadata": {},
   "outputs": [],
   "source": []
  }
 ],
 "metadata": {
  "kernelspec": {
   "display_name": "Python 3",
   "language": "python",
   "name": "python3"
  },
  "language_info": {
   "codemirror_mode": {
    "name": "ipython",
    "version": 3
   },
   "file_extension": ".py",
   "mimetype": "text/x-python",
   "name": "python",
   "nbconvert_exporter": "python",
   "pygments_lexer": "ipython3",
   "version": "3.8.10"
  }
 },
 "nbformat": 4,
 "nbformat_minor": 5
}
