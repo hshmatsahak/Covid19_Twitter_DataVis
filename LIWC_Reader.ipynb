{
 "cells": [
  {
   "cell_type": "code",
   "execution_count": 26,
   "metadata": {},
   "outputs": [
    {
     "name": "stdout",
     "output_type": "stream",
     "text": [
      "['allpunct', 'otherpunct', 'verb', 'present', 'affect', 'posemo', 'bio', 'sexual', 'social']\n"
     ]
    }
   ],
   "source": [
    "f=open('LIWC2007_English080730_Edit.txt', encoding=\"utf8\")\n",
    "f1= f.readlines()\n",
    "dimensions={}\n",
    "\n",
    "for x in f1[1:]:\n",
    "    if (x!='%\\n'):\n",
    "        dimensions[int(x.split(\"\\t\")[0])]= x.split(\"\\t\")[1].split('\\n')[0]\n",
    "    else:\n",
    "        break\n",
    "dimensions\n",
    "\n",
    "words={}\n",
    "\n",
    "for x in range(77,len(f1)):\n",
    "    dim=[]\n",
    "    j= f1[x].split('\\t')\n",
    "    for l in range(1,len(j)):\n",
    "        if(l==len(j)-1):\n",
    "               dim.append(j[l].split('\\n')[0])\n",
    "        else:\n",
    "               dim.append(j[l])\n",
    "    words[j[0].split('*')[0]]=dim\n",
    "    \n",
    "def sentiments(sentence, dims, words):\n",
    "    word_sentiments = []\n",
    "    for key in words:\n",
    "        if key in sentence:\n",
    "            for dim in words[key]:\n",
    "                word_sentiments.append(dims[int(dim)])\n",
    "    return word_sentiments\n",
    "print(sentiments('love',dimensions,words))"
   ]
  }
 ],
 "metadata": {
  "kernelspec": {
   "display_name": "Python 3",
   "language": "python",
   "name": "python3"
  },
  "language_info": {
   "codemirror_mode": {
    "name": "ipython",
    "version": 3
   },
   "file_extension": ".py",
   "mimetype": "text/x-python",
   "name": "python",
   "nbconvert_exporter": "python",
   "pygments_lexer": "ipython3",
   "version": "3.8.5"
  }
 },
 "nbformat": 4,
 "nbformat_minor": 4
}
