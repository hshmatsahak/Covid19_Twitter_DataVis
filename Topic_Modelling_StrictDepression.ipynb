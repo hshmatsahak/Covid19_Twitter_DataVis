{
 "cells": [
  {
   "cell_type": "code",
   "execution_count": 2,
   "id": "460ba34c",
   "metadata": {},
   "outputs": [
    {
     "name": "stderr",
     "output_type": "stream",
     "text": [
      "[nltk_data] Downloading package stopwords to\n",
      "[nltk_data]     C:\\Users\\hshma\\AppData\\Roaming\\nltk_data...\n",
      "[nltk_data]   Package stopwords is already up-to-date!\n"
     ]
    },
    {
     "data": {
      "text/plain": [
       "True"
      ]
     },
     "execution_count": 2,
     "metadata": {},
     "output_type": "execute_result"
    }
   ],
   "source": [
    "import nltk; nltk.download('stopwords')"
   ]
  },
  {
   "cell_type": "code",
   "execution_count": 3,
   "id": "c4cea467",
   "metadata": {},
   "outputs": [],
   "source": [
    "import re\n",
    "import numpy as np\n",
    "import pandas as pd\n",
    "from pprint import pprint\n",
    "\n",
    "# Gensim\n",
    "import gensim\n",
    "import gensim.corpora as corpora\n",
    "from gensim.utils import simple_preprocess\n",
    "from gensim.models import CoherenceModel\n",
    "\n",
    "# spacy for lemmatization\n",
    "import spacy\n",
    "\n",
    "# Plotting tools\n",
    "import pyLDAvis\n",
    "import pyLDAvis.gensim_models  # don't skip this\n",
    "import matplotlib.pyplot as plt\n",
    "%matplotlib inline\n",
    "\n",
    "# Enable logging for gensim - optional\n",
    "import logging\n",
    "logging.basicConfig(format='%(asctime)s : %(levelname)s : %(message)s', level=logging.ERROR)\n",
    "\n",
    "import warnings\n",
    "warnings.filterwarnings(\"ignore\",category=DeprecationWarning)"
   ]
  },
  {
   "cell_type": "code",
   "execution_count": 4,
   "id": "8e99057f",
   "metadata": {},
   "outputs": [],
   "source": [
    "# NLTK Stop words\n",
    "from nltk.corpus import stopwords\n",
    "stop_words = stopwords.words('english')\n",
    "stop_words.extend(['from', 'subject', 're', 'edu', 'use'])"
   ]
  },
  {
   "cell_type": "code",
   "execution_count": 5,
   "id": "bcf8216a",
   "metadata": {},
   "outputs": [
    {
     "data": {
      "text/html": [
       "<div>\n",
       "<style scoped>\n",
       "    .dataframe tbody tr th:only-of-type {\n",
       "        vertical-align: middle;\n",
       "    }\n",
       "\n",
       "    .dataframe tbody tr th {\n",
       "        vertical-align: top;\n",
       "    }\n",
       "\n",
       "    .dataframe thead th {\n",
       "        text-align: right;\n",
       "    }\n",
       "</style>\n",
       "<table border=\"1\" class=\"dataframe\">\n",
       "  <thead>\n",
       "    <tr style=\"text-align: right;\">\n",
       "      <th></th>\n",
       "      <th>clean_text</th>\n",
       "    </tr>\n",
       "  </thead>\n",
       "  <tbody>\n",
       "    <tr>\n",
       "      <th>0</th>\n",
       "      <td>my anxiety levels are literally through the ro...</td>\n",
       "    </tr>\n",
       "    <tr>\n",
       "      <th>1</th>\n",
       "      <td>Corona Chronicles: Anti-social distancing #lat...</td>\n",
       "    </tr>\n",
       "    <tr>\n",
       "      <th>2</th>\n",
       "      <td>COVID-19 symptoms: loss of taste and smell, co...</td>\n",
       "    </tr>\n",
       "    <tr>\n",
       "      <th>3</th>\n",
       "      <td>I will admit we where afraid of the Corona vir...</td>\n",
       "    </tr>\n",
       "    <tr>\n",
       "      <th>4</th>\n",
       "      <td>#smog over #losangeles seems to be gone. This ...</td>\n",
       "    </tr>\n",
       "  </tbody>\n",
       "</table>\n",
       "</div>"
      ],
      "text/plain": [
       "                                          clean_text\n",
       "0  my anxiety levels are literally through the ro...\n",
       "1  Corona Chronicles: Anti-social distancing #lat...\n",
       "2  COVID-19 symptoms: loss of taste and smell, co...\n",
       "3  I will admit we where afraid of the Corona vir...\n",
       "4  #smog over #losangeles seems to be gone. This ..."
      ]
     },
     "execution_count": 5,
     "metadata": {},
     "output_type": "execute_result"
    }
   ],
   "source": [
    "# Import Dataset\n",
    "strictdepression_df = pd.read_csv('./Stored_Dataframes/strict_depression_df_with_topics.csv')\n",
    "topic_depression_df = strictdepression_df[['clean_text']]\n",
    "topic_depression_df.head()"
   ]
  },
  {
   "cell_type": "code",
   "execution_count": 6,
   "id": "c4672502",
   "metadata": {},
   "outputs": [
    {
     "name": "stdout",
     "output_type": "stream",
     "text": [
      "['my anxiety levels are literally through the roof right now i need this '\n",
      " 'corona shit to end right now',\n",
      " 'Corona Chronicles: Anti-social distancing #latergram #thatplanebetterbeempty '\n",
      " '@ San Mateo–Hayward Bridge ']\n"
     ]
    }
   ],
   "source": [
    "# Convert to list\n",
    "data = topic_depression_df.clean_text.values.tolist()\n",
    "\n",
    "# Remove new line characters\n",
    "data = [re.sub('\\s+', ' ', sent) for sent in data]\n",
    "\n",
    "# Remove distracting single quotes\n",
    "data = [re.sub(\"\\'\",\" \", sent) for sent in data]\n",
    "\n",
    "pprint(data[:2])"
   ]
  },
  {
   "cell_type": "code",
   "execution_count": 7,
   "id": "a58f67f7",
   "metadata": {},
   "outputs": [
    {
     "name": "stdout",
     "output_type": "stream",
     "text": [
      "[['my', 'anxiety', 'levels', 'are', 'literally', 'through', 'the', 'roof', 'right', 'now', 'need', 'this', 'corona', 'shit', 'to', 'end', 'right', 'now']]\n"
     ]
    }
   ],
   "source": [
    "def sent_to_words(sentences):\n",
    "    for sentence in sentences:\n",
    "        yield(gensim.utils.simple_preprocess(str(sentence).encode('utf-8'), deacc=True))  # deacc=True removes punctuations\n",
    "\n",
    "data_words = list(sent_to_words(data))\n",
    "print(data_words[:1])"
   ]
  },
  {
   "cell_type": "code",
   "execution_count": 8,
   "id": "05ae9d7c",
   "metadata": {},
   "outputs": [
    {
     "name": "stdout",
     "output_type": "stream",
     "text": [
      "['my', 'anxiety', 'levels', 'are', 'literally', 'through', 'the', 'roof', 'right', 'now', 'need', 'this', 'corona', 'shit', 'to', 'end', 'right', 'now']\n"
     ]
    }
   ],
   "source": [
    "# Build the bigram and trigram models\n",
    "bigram = gensim.models.Phrases(data_words, min_count=5, threshold=100) # higher threshold fewer phrases.\n",
    "trigram = gensim.models.Phrases(bigram[data_words], threshold=100)  \n",
    "\n",
    "# Faster way to get a sentence clubbed as a trigram/bigram\n",
    "bigram_mod = gensim.models.phrases.Phraser(bigram)\n",
    "trigram_mod = gensim.models.phrases.Phraser(trigram)\n",
    "\n",
    "# See trigram example\n",
    "print(trigram_mod[bigram_mod[data_words[0]]])"
   ]
  },
  {
   "cell_type": "code",
   "execution_count": 9,
   "id": "b9f94169",
   "metadata": {},
   "outputs": [],
   "source": [
    "# Define functions for stopwords, bigrams, trigrams and lemmatization\n",
    "def remove_stopwords(texts):\n",
    "    return [[word for word in simple_preprocess(str(doc)) if word not in stop_words] for doc in texts]\n",
    "\n",
    "def make_bigrams(texts):\n",
    "    return [bigram_mod[doc] for doc in texts]\n",
    "\n",
    "def make_trigrams(texts):\n",
    "    return [trigram_mod[bigram_mod[doc]] for doc in texts]\n",
    "\n",
    "def lemmatization(texts, allowed_postags=['NOUN', 'ADJ', 'VERB', 'ADV']):\n",
    "    \"\"\"https://spacy.io/api/annotation\"\"\"\n",
    "    texts_out = []\n",
    "    for sent in texts:\n",
    "        doc = nlp(\" \".join(sent)) \n",
    "        texts_out.append([token.lemma_ for token in doc if token.pos_ in allowed_postags])\n",
    "    return texts_out"
   ]
  },
  {
   "cell_type": "code",
   "execution_count": 10,
   "id": "57156bd3",
   "metadata": {},
   "outputs": [
    {
     "name": "stdout",
     "output_type": "stream",
     "text": [
      "Collecting en_core_web_sm==2.3.1\n",
      "  Downloading https://github.com/explosion/spacy-models/releases/download/en_core_web_sm-2.3.1/en_core_web_sm-2.3.1.tar.gz (12.0 MB)\n",
      "[!] Skipping model package dependencies and setting `--no-deps`. You don't seem\n",
      "to have the spaCy package itself installed (maybe because you've built from\n",
      "source?), so installing the model dependencies would cause spaCy to be\n",
      "downloaded, which probably isn't what you want. If the model package has other\n",
      "dependencies, you'll have to install them manually.\n",
      "[+] Download and installation successful\n",
      "You can now load the model via spacy.load('en_core_web_sm')\n",
      "[['anxiety', 'level', 'literally', 'roof', 'need', 'corona', 'shit', 'end', 'right'], ['corona', 'chronicle']]\n"
     ]
    }
   ],
   "source": [
    "# Remove Stop Words\n",
    "data_words_nostops = remove_stopwords(data_words)\n",
    "\n",
    "# Form Bigrams\n",
    "data_words_bigrams = make_bigrams(data_words_nostops)\n",
    "\n",
    "# Initialize spacy 'en' model, keeping only tagger component (for efficiency)\n",
    "# python3 -m spacy download en\n",
    "!python -m spacy download en_core_web_sm\n",
    "nlp = spacy.load('en_core_web_sm', disable=['parser', 'ner'])\n",
    "# nlp = en_core_web_sm.load(disable=['parser', 'ner'])\n",
    "\n",
    "# Do lemmatization keeping only noun, adj, vb, adv\n",
    "data_lemmatized = lemmatization(data_words_bigrams, allowed_postags=['NOUN', 'ADJ', 'VERB', 'ADV'])\n",
    "\n",
    "print(data_lemmatized[:2])"
   ]
  },
  {
   "cell_type": "code",
   "execution_count": 11,
   "id": "4aa0ce59",
   "metadata": {},
   "outputs": [
    {
     "name": "stdout",
     "output_type": "stream",
     "text": [
      "[[(0, 1), (1, 1), (2, 1), (3, 1), (4, 1), (5, 1), (6, 1), (7, 1), (8, 1)], [(1, 1), (9, 1)], [(10, 1), (11, 1), (12, 1), (13, 1), (14, 1)]]\n"
     ]
    }
   ],
   "source": [
    "# Create Dictionary\n",
    "id2word = corpora.Dictionary(data_lemmatized)\n",
    "\n",
    "# Create Corpus\n",
    "texts = data_lemmatized\n",
    "\n",
    "# Term Document Frequency\n",
    "corpus = [id2word.doc2bow(text) for text in texts]\n",
    "\n",
    "# View\n",
    "print(corpus[:3])"
   ]
  },
  {
   "cell_type": "code",
   "execution_count": 12,
   "id": "999403ab",
   "metadata": {},
   "outputs": [],
   "source": [
    "# Build LDA model\n",
    "lda_model = gensim.models.ldamodel.LdaModel(corpus=corpus,\n",
    "                                           id2word=id2word,\n",
    "                                           num_topics=3, \n",
    "                                           random_state=100,\n",
    "                                           update_every=1,\n",
    "                                           chunksize=100,\n",
    "                                           passes=10,\n",
    "                                           alpha='auto',\n",
    "                                           per_word_topics=True)"
   ]
  },
  {
   "cell_type": "code",
   "execution_count": 13,
   "id": "ca85cba9",
   "metadata": {},
   "outputs": [
    {
     "name": "stdout",
     "output_type": "stream",
     "text": [
      "[(0,\n",
      "  '0.032*\"covid\" + 0.020*\"anxiety\" + 0.015*\"pandemic\" + 0.015*\"depression\" + '\n",
      "  '0.012*\"people\" + 0.012*\"get\" + 0.011*\"go\" + 0.010*\"amp\" + 0.009*\"work\" + '\n",
      "  '0.008*\"feel\"'),\n",
      " (1,\n",
      "  '0.115*\"empty\" + 0.030*\"mask\" + 0.017*\"wear\" + 0.013*\"sit\" + 0.009*\"stadium\" '\n",
      "  '+ 0.009*\"social_distancing\" + 0.008*\"travel\" + 0.007*\"seat\" + 0.007*\"game\" '\n",
      "  '+ 0.005*\"restaurant\"'),\n",
      " (2,\n",
      "  '0.122*\"suicide\" + 0.120*\"copy\" + 0.079*\"could\" + 0.076*\"lockdown\" + '\n",
      "  '0.068*\"try\" + 0.063*\"figure\" + 0.055*\"retweet\" + 0.055*\"friend\" + '\n",
      "  '0.054*\"hotline\" + 0.052*\"demonstrate\"')]\n"
     ]
    }
   ],
   "source": [
    "# Print the Keyword in the 20 topics\n",
    "pprint(lda_model.print_topics())\n",
    "doc_lda = lda_model[corpus]"
   ]
  },
  {
   "cell_type": "code",
   "execution_count": 14,
   "id": "96730217",
   "metadata": {},
   "outputs": [
    {
     "name": "stdout",
     "output_type": "stream",
     "text": [
      "\n",
      "Perplexity:  -7.311314793329461\n",
      "\n",
      "Coherence Score:  0.4645616849501885\n"
     ]
    }
   ],
   "source": [
    "# Compute Perplexity\n",
    "print('\\nPerplexity: ', lda_model.log_perplexity(corpus))  # a measure of how good the model is. lower the better.\n",
    "\n",
    "# Compute Coherence Score\n",
    "coherence_model_lda = CoherenceModel(model=lda_model, texts=data_lemmatized, dictionary=id2word, coherence='c_v')\n",
    "coherence_lda = coherence_model_lda.get_coherence()\n",
    "print('\\nCoherence Score: ', coherence_lda)"
   ]
  },
  {
   "cell_type": "code",
   "execution_count": 15,
   "id": "a8162a3a",
   "metadata": {},
   "outputs": [
    {
     "name": "stderr",
     "output_type": "stream",
     "text": [
      "C:\\Users\\hshma\\anaconda3\\envs\\D3M\\lib\\site-packages\\pyLDAvis\\_prepare.py:246: FutureWarning: In a future version of pandas all arguments of DataFrame.drop except for the argument 'labels' will be keyword-only\n",
      "  default_term_info = default_term_info.sort_values(\n"
     ]
    },
    {
     "data": {
      "text/html": [
       "\n",
       "<link rel=\"stylesheet\" type=\"text/css\" href=\"https://cdn.jsdelivr.net/gh/bmabey/pyLDAvis@3.3.1/pyLDAvis/js/ldavis.v1.0.0.css\">\n",
       "\n",
       "\n",
       "<div id=\"ldavis_el1518820378196919682347260961\"></div>\n",
       "<script type=\"text/javascript\">\n",
       "\n",
       "var ldavis_el1518820378196919682347260961_data = {\"mdsDat\": {\"x\": [0.2757231549208631, -0.3258204814298762, 0.050097326509012996], \"y\": [-0.1869966104923374, -0.11223534576313661, 0.29923195625547394], \"topics\": [1, 2, 3], \"cluster\": [1, 1, 1], \"Freq\": [78.50391821642641, 11.02260598504107, 10.473475798532514]}, \"tinfo\": {\"Term\": [\"suicide\", \"copy\", \"empty\", \"could\", \"lockdown\", \"try\", \"figure\", \"retweet\", \"friend\", \"hotline\", \"demonstrate\", \"always_listening\", \"mask\", \"follower\", \"wear\", \"covid\", \"anxiety\", \"call\", \"sit\", \"pandemic\", \"depression\", \"stadium\", \"social_distancing\", \"get\", \"go\", \"call_usa\", \"travel\", \"amp\", \"seat\", \"game\", \"anxiety\", \"depression\", \"pandemic\", \"get\", \"go\", \"work\", \"amp\", \"feel\", \"time\", \"make\", \"death\", \"day\", \"need\", \"know\", \"home\", \"take\", \"many\", \"hospital\", \"still\", \"think\", \"exhausted\", \"year\", \"say\", \"want\", \"see\", \"thing\", \"week\", \"die\", \"come\", \"life\", \"covid\", \"people\", \"today\", \"help\", \"copy\", \"suicide\", \"could\", \"lockdown\", \"try\", \"figure\", \"retweet\", \"hotline\", \"demonstrate\", \"friend\", \"always_listening\", \"follower\", \"call_usa\", \"commit\", \"always_listene\", \"national\", \"veteran\", \"prevention\", \"dramatically\", \"murder\", \"repost\", \"hour_helpline\", \"drug_overdose\", \"rt\", \"select\", \"contemplate\", \"homicide\", \"ericallankramer\", \"retweetht\", \"prevention_lifeline\", \"call\", \"begin\", \"bomber\", \"reach\", \"post\", \"empty\", \"mask\", \"sit\", \"stadium\", \"social_distancing\", \"seat\", \"travel\", \"game\", \"flight\", \"street\", \"car\", \"sell\", \"ship\", \"quick\", \"like\", \"challenge\", \"air\", \"ride\", \"chair\", \"arena\", \"front\", \"clean\", \"commercial\", \"lol\", \"rally\", \"fan\", \"field\", \"church\", \"glass\", \"table\", \"football\", \"stomach\", \"wear\", \"bag\", \"spot\", \"store\", \"restaurant\", \"space\", \"half\", \"stand\", \"play\", \"pack\", \"full\"], \"Freq\": [4430.0, 4360.0, 3983.0, 2861.0, 2755.0, 2454.0, 2275.0, 2015.0, 1989.0, 1973.0, 1880.0, 1707.0, 1046.0, 705.0, 640.0, 8317.0, 5098.0, 766.0, 444.0, 4000.0, 3832.0, 316.0, 312.0, 3004.0, 2855.0, 297.0, 268.0, 2468.0, 249.0, 229.0, 5097.740241674583, 3831.414368215208, 3999.9134333220695, 3003.781808573945, 2854.7960281277724, 2209.0260572594643, 2467.7809022113875, 1960.5220189501133, 1779.9352682015099, 1596.0544502001967, 1478.9364237158732, 1502.233601995818, 1489.3288160855527, 1434.1836455963085, 1440.3130423458997, 1327.6806926933193, 1305.5612666659254, 1384.1412247120134, 1301.2482641720076, 1255.3435204769994, 1177.5345117773225, 1156.7798516607522, 1170.1722949647226, 1134.1866255661362, 1250.842901832353, 1009.4629150678337, 1047.3422785041694, 994.7626413901105, 1062.9962374901404, 985.5843315680652, 8270.181619345607, 3036.2609718799154, 1055.9117696996532, 1443.2765822373703, 4359.700404713733, 4429.537142877981, 2860.3550506205165, 2754.387189821665, 2453.764533436193, 2274.8503585674384, 2014.9100344373435, 1972.3433322090173, 1879.5442695554125, 1988.5867854545018, 1706.667739520973, 705.0327888625529, 296.841565573317, 231.45552128130365, 163.33086696521542, 159.23124223659076, 96.85255774270873, 69.02702467787839, 67.66965178697497, 57.31553569649962, 38.16011617572507, 33.85835387073242, 34.87348298872649, 29.67676718632102, 25.48703400587838, 22.143026392391892, 20.620266096858483, 15.178127584577414, 15.178127584577414, 12.830115820758255, 307.2425176713489, 50.44482493314182, 17.055931930078604, 23.93696010799725, 23.83304787123745, 3982.5002588254656, 1046.378196269318, 443.744827363614, 315.6263560917148, 312.3274086490467, 248.98823828786485, 268.30852958033864, 228.69976295902458, 154.12345239553474, 143.70469898839988, 134.07397263293177, 138.28542448706045, 112.06231459468373, 129.10089874630998, 142.2065015108551, 118.25575853640972, 102.98141549234617, 115.6061414617429, 97.44890083571966, 93.93775671080964, 100.0526286396217, 91.08390063091215, 88.75837803815729, 106.66911555215687, 89.21682061458007, 84.77728083835977, 84.11612648764786, 95.46854047381254, 89.70611325602215, 80.44979962296125, 81.58179927295285, 82.30932386516146, 584.7679821126111, 127.8875700296521, 99.97247312936312, 141.5496314448371, 164.9938160301433, 113.79134097195734, 113.45299501394345, 108.04282763185022, 112.09866269109261, 100.09297165065136, 103.21959921476717], \"Total\": [4430.0, 4360.0, 3983.0, 2861.0, 2755.0, 2454.0, 2275.0, 2015.0, 1989.0, 1973.0, 1880.0, 1707.0, 1046.0, 705.0, 640.0, 8317.0, 5098.0, 766.0, 444.0, 4000.0, 3832.0, 316.0, 312.0, 3004.0, 2855.0, 297.0, 268.0, 2468.0, 249.0, 229.0, 5098.415245804227, 3832.0875478042562, 4000.658221016157, 3004.477736541418, 2855.512355230147, 2209.7183456936573, 2468.558490119378, 1961.2022157180631, 1780.6339117292912, 1596.7925983450225, 1479.6255800106087, 1502.9387567428703, 1490.0545779933534, 1434.8845338201866, 1441.0191833792212, 1328.393201198685, 1306.271593908574, 1384.8980986574581, 1301.9730245557087, 1256.0474012039433, 1178.2183953667843, 1157.4728671655132, 1170.8842755470278, 1134.9096754879122, 1251.6430014297794, 1010.1489344937335, 1048.060904349074, 995.4457003977461, 1063.728527302409, 986.2785822442622, 8317.275529957384, 3059.9168288806277, 1056.6959678249161, 1450.0221445973339, 4360.4417704865655, 4430.37709936234, 2861.1466061543592, 2755.1617668593676, 2454.5570332664774, 2275.5938068844325, 2015.651255813618, 1973.0848997701064, 1880.28574518147, 1989.3940285267554, 1707.4088145522883, 705.7936914151006, 297.5828753942946, 232.28834647878352, 164.07339960272242, 160.26870650265886, 97.91083488115025, 69.78332788306203, 68.42217043707592, 58.17051202544433, 38.92816038806511, 34.63434857771231, 35.73167597385274, 30.432476173021012, 26.232154392500767, 23.036776716966905, 21.47674494666353, 15.983719257695732, 15.983719257695732, 13.580992977080344, 766.2258483611528, 262.0259865536467, 22.058720253945552, 176.35084760709097, 224.17968469542444, 3983.059795763941, 1046.962784950692, 444.3742838704824, 316.1791829765172, 312.90824574973857, 249.5400759553505, 268.94142244840043, 229.28540160668382, 154.70310137702793, 144.27406413254005, 134.64221815458802, 138.9184282345376, 112.64563960311477, 129.79332680093853, 142.99813179315777, 118.91702913918515, 103.56161846219604, 116.27090026550151, 98.01330334619662, 94.49648982620425, 100.64885903185392, 91.67896507122964, 89.33972052847318, 107.3783117039458, 89.81000549031721, 85.3439780340522, 84.68112448297602, 96.12534431630495, 90.32453238718459, 81.00972535701884, 82.17910456134935, 82.9407491306952, 640.9153147875747, 131.32634386472674, 106.52099990635523, 181.80875645454034, 231.23869768055874, 172.33578554041637, 254.02723353314673, 204.19877780853517, 289.1600701903218, 157.0059471649974, 297.1312393268342], \"Category\": [\"Default\", \"Default\", \"Default\", \"Default\", \"Default\", \"Default\", \"Default\", \"Default\", \"Default\", \"Default\", \"Default\", \"Default\", \"Default\", \"Default\", \"Default\", \"Default\", \"Default\", \"Default\", \"Default\", \"Default\", \"Default\", \"Default\", \"Default\", \"Default\", \"Default\", \"Default\", \"Default\", \"Default\", \"Default\", \"Default\", \"Topic1\", \"Topic1\", \"Topic1\", \"Topic1\", \"Topic1\", \"Topic1\", \"Topic1\", \"Topic1\", \"Topic1\", \"Topic1\", \"Topic1\", \"Topic1\", \"Topic1\", \"Topic1\", \"Topic1\", \"Topic1\", \"Topic1\", \"Topic1\", \"Topic1\", \"Topic1\", \"Topic1\", \"Topic1\", \"Topic1\", \"Topic1\", \"Topic1\", \"Topic1\", \"Topic1\", \"Topic1\", \"Topic1\", \"Topic1\", \"Topic1\", \"Topic1\", \"Topic1\", \"Topic1\", \"Topic2\", \"Topic2\", \"Topic2\", \"Topic2\", \"Topic2\", \"Topic2\", \"Topic2\", \"Topic2\", \"Topic2\", \"Topic2\", \"Topic2\", \"Topic2\", \"Topic2\", \"Topic2\", \"Topic2\", \"Topic2\", \"Topic2\", \"Topic2\", \"Topic2\", \"Topic2\", \"Topic2\", \"Topic2\", \"Topic2\", \"Topic2\", \"Topic2\", \"Topic2\", \"Topic2\", \"Topic2\", \"Topic2\", \"Topic2\", \"Topic2\", \"Topic2\", \"Topic2\", \"Topic2\", \"Topic2\", \"Topic3\", \"Topic3\", \"Topic3\", \"Topic3\", \"Topic3\", \"Topic3\", \"Topic3\", \"Topic3\", \"Topic3\", \"Topic3\", \"Topic3\", \"Topic3\", \"Topic3\", \"Topic3\", \"Topic3\", \"Topic3\", \"Topic3\", \"Topic3\", \"Topic3\", \"Topic3\", \"Topic3\", \"Topic3\", \"Topic3\", \"Topic3\", \"Topic3\", \"Topic3\", \"Topic3\", \"Topic3\", \"Topic3\", \"Topic3\", \"Topic3\", \"Topic3\", \"Topic3\", \"Topic3\", \"Topic3\", \"Topic3\", \"Topic3\", \"Topic3\", \"Topic3\", \"Topic3\", \"Topic3\", \"Topic3\", \"Topic3\"], \"logprob\": [30.0, 29.0, 28.0, 27.0, 26.0, 25.0, 24.0, 23.0, 22.0, 21.0, 20.0, 19.0, 18.0, 17.0, 16.0, 15.0, 14.0, 13.0, 12.0, 11.0, 10.0, 9.0, 8.0, 7.0, 6.0, 5.0, 4.0, 3.0, 2.0, 1.0, -3.9271, -4.2127, -4.1697, -4.4561, -4.5069, -4.7634, -4.6526, -4.8827, -4.9794, -5.0884, -5.1646, -5.149, -5.1576, -5.1953, -5.1911, -5.2725, -5.2893, -5.2309, -5.2926, -5.3285, -5.3925, -5.4103, -5.3988, -5.43, -5.3321, -5.5465, -5.5097, -5.5612, -5.4948, -5.5705, -3.4433, -4.4453, -5.5015, -5.189, -2.1203, -2.1044, -2.5418, -2.5795, -2.6951, -2.7708, -2.8922, -2.9135, -2.9617, -2.9053, -3.0582, -3.9422, -4.8073, -5.0561, -5.4047, -5.4301, -5.9273, -6.266, -6.2859, -6.4519, -6.8587, -6.9783, -6.9488, -7.1101, -7.2623, -7.403, -7.4742, -7.7806, -7.7806, -7.9487, -4.7729, -6.5796, -7.664, -7.3251, -7.3294, -2.1597, -3.4963, -4.3541, -4.6948, -4.7053, -4.932, -4.8572, -5.017, -5.4116, -5.4816, -5.551, -5.5201, -5.7303, -5.5888, -5.4921, -5.6765, -5.8148, -5.6992, -5.8701, -5.9068, -5.8437, -5.9376, -5.9635, -5.7797, -5.9583, -6.0094, -6.0172, -5.8906, -5.9528, -6.0618, -6.0478, -6.0389, -4.0782, -5.5982, -5.8445, -5.4967, -5.3435, -5.715, -5.718, -5.7669, -5.73, -5.8433, -5.8125], \"loglift\": [30.0, 29.0, 28.0, 27.0, 26.0, 25.0, 24.0, 23.0, 22.0, 21.0, 20.0, 19.0, 18.0, 17.0, 16.0, 15.0, 14.0, 13.0, 12.0, 11.0, 10.0, 9.0, 8.0, 7.0, 6.0, 5.0, 4.0, 3.0, 2.0, 1.0, 0.2419, 0.2418, 0.2418, 0.2418, 0.2418, 0.2417, 0.2417, 0.2417, 0.2416, 0.2416, 0.2416, 0.2416, 0.2415, 0.2415, 0.2415, 0.2415, 0.2415, 0.2415, 0.2415, 0.2415, 0.2414, 0.2414, 0.2414, 0.2414, 0.2414, 0.2413, 0.2413, 0.2413, 0.2413, 0.2413, 0.2363, 0.2343, 0.2413, 0.2374, 2.2051, 2.205, 2.2049, 2.2049, 2.2049, 2.2049, 2.2049, 2.2048, 2.2048, 2.2048, 2.2048, 2.2041, 2.2027, 2.2016, 2.2007, 2.1987, 2.1944, 2.1943, 2.1942, 2.1904, 2.1853, 2.1826, 2.1809, 2.1801, 2.1764, 2.1657, 2.1645, 2.1535, 2.1535, 2.1483, 1.2914, 0.5577, 1.948, 0.2082, -0.0362, 2.2562, 2.2558, 2.2549, 2.2546, 2.2545, 2.2541, 2.254, 2.2538, 2.2526, 2.2524, 2.2521, 2.2518, 2.2511, 2.251, 2.2508, 2.2507, 2.2507, 2.2506, 2.2505, 2.2504, 2.2504, 2.2498, 2.2498, 2.2497, 2.2497, 2.2497, 2.2496, 2.2495, 2.2495, 2.2494, 2.249, 2.2487, 2.1646, 2.2298, 2.1929, 2.006, 1.9188, 1.8412, 1.4503, 1.6198, 1.3087, 1.8061, 1.199]}, \"token.table\": {\"Topic\": [3, 2, 2, 1, 1, 3, 1, 3, 1, 2, 1, 2, 3, 1, 2, 2, 3, 3, 3, 3, 3, 1, 3, 3, 2, 2, 2, 2, 1, 3, 1, 1, 2, 1, 1, 2, 2, 3, 2, 1, 3, 1, 3, 2, 3, 2, 3, 2, 3, 1, 3, 3, 1, 3, 1, 1, 3, 1, 3, 1, 2, 1, 3, 2, 2, 1, 1, 1, 3, 2, 3, 1, 3, 1, 3, 2, 1, 2, 1, 1, 3, 1, 1, 3, 1, 3, 1, 2, 2, 2, 3, 3, 1, 2, 2, 1, 3, 2, 2, 3, 2, 1, 3, 1, 3, 2, 3, 3, 3, 3, 1, 3, 1, 3, 3, 1, 3, 1, 3, 1, 3, 3, 2, 3, 1, 1, 1, 1, 1, 3, 3, 2, 1, 2, 1, 1, 3, 1, 1, 1], \"Freq\": [0.9945769632559281, 0.9934578084849739, 0.9997605643424095, 0.9997737586038113, 0.9999185539458425, 0.9947459442449409, 0.0228438553279924, 0.9746711606610091, 0.805263641119047, 0.19082076803768888, 0.18133418230754056, 0.7706702748070474, 0.04533354557688514, 0.5990400884827042, 0.40066515722045787, 0.9980413006174421, 0.9952301873558659, 0.9896615733619599, 0.992288496056256, 0.9882929489167607, 0.99259410192183, 0.9993151191458064, 0.0009400894817928564, 0.9961974301412225, 0.9944536757942732, 0.9549947143341757, 0.9998986867593198, 0.9995992494226291, 0.9943159836671148, 0.005650888903549504, 0.9993753858973571, 0.9995772038419313, 0.99984803098029, 0.9997161996455746, 0.9995522604622552, 0.9938299174904986, 0.9795230435205963, 0.9999849874802269, 0.9384549214212394, 0.9998146393167489, 0.9959695101871751, 0.9998968919592062, 0.991956596146607, 0.9997390540954031, 0.9954551565497424, 0.9988754625824023, 0.9978205583730151, 0.9998019354028889, 0.9935532400655575, 0.6529101431391623, 0.3466481687800707, 0.9987552560926953, 0.9998409918184423, 0.9964070404948963, 0.9998205732749821, 0.5511220118126906, 0.44483419524881457, 0.9951572156166733, 0.004137867840401968, 0.9992927343431812, 0.97780180619328, 0.9993515056029546, 0.0007220747872853718, 0.9994501504875777, 0.9816844085781211, 0.9993835505231689, 0.9997175420319598, 0.006993098353525821, 0.9930199662006667, 0.9995783307995407, 0.996476833189659, 0.9995036310001412, 0.0006262554078948253, 0.9997920846554113, 0.9990804019354544, 0.979877914347181, 0.006239521250415845, 0.9920838788161193, 0.999292255459009, 0.3630435727386731, 0.6369185486643388, 0.9998354718199373, 0.9921838304051627, 0.007516544169736081, 0.612117710040327, 0.38732872047749506, 0.8921414992251617, 0.1070569799070194, 0.9887748563041494, 0.9572201400839508, 0.9938877689593761, 0.9909808992228094, 0.8619181708650215, 0.1360923427681613, 0.9761570960761436, 0.2854193552463901, 0.7135483881159753, 0.9996769005492693, 0.9384549214212394, 0.9976700940228129, 0.985788991649506, 0.9992447797229025, 0.997835714550928, 0.9994862740980895, 0.0007989498593909589, 0.9530288525271483, 0.9933887228195023, 0.9942684012857528, 0.999157728329321, 0.9970974055107995, 0.3365522710104674, 0.6614992912964359, 0.05632692150162617, 0.938782025027103, 0.9994332866103632, 0.47013014000511494, 0.5288964075057543, 0.9992526538281846, 0.9886575761546017, 0.22001140528125027, 0.7810404887484385, 0.9981003922348214, 0.9999148832359226, 0.987535751385789, 0.9997040024005467, 0.9988626088148979, 0.9991661133147209, 0.9996439965985622, 0.9993413736343211, 0.0009463459977597737, 0.9964995260312455, 0.9997730615915915, 0.010213374252337414, 0.9906973024767293, 0.999198460011788, 0.08737503802442396, 0.9127570936480004, 0.9989877455168191, 0.9996749152691531, 0.9995914658745555], \"Term\": [\"air\", \"always_listene\", \"always_listening\", \"amp\", \"anxiety\", \"arena\", \"bag\", \"bag\", \"begin\", \"begin\", \"bomber\", \"bomber\", \"bomber\", \"call\", \"call\", \"call_usa\", \"car\", \"chair\", \"challenge\", \"church\", \"clean\", \"come\", \"come\", \"commercial\", \"commit\", \"contemplate\", \"copy\", \"could\", \"covid\", \"covid\", \"day\", \"death\", \"demonstrate\", \"depression\", \"die\", \"dramatically\", \"drug_overdose\", \"empty\", \"ericallankramer\", \"exhausted\", \"fan\", \"feel\", \"field\", \"figure\", \"flight\", \"follower\", \"football\", \"friend\", \"front\", \"full\", \"full\", \"game\", \"get\", \"glass\", \"go\", \"half\", \"half\", \"help\", \"help\", \"home\", \"homicide\", \"hospital\", \"hospital\", \"hotline\", \"hour_helpline\", \"know\", \"life\", \"like\", \"like\", \"lockdown\", \"lol\", \"make\", \"make\", \"many\", \"mask\", \"murder\", \"national\", \"national\", \"need\", \"pack\", \"pack\", \"pandemic\", \"people\", \"people\", \"play\", \"play\", \"post\", \"post\", \"prevention\", \"prevention_lifeline\", \"quick\", \"rally\", \"reach\", \"reach\", \"repost\", \"restaurant\", \"restaurant\", \"retweet\", \"retweetht\", \"ride\", \"rt\", \"say\", \"seat\", \"see\", \"see\", \"select\", \"sell\", \"ship\", \"sit\", \"social_distancing\", \"space\", \"space\", \"spot\", \"spot\", \"stadium\", \"stand\", \"stand\", \"still\", \"stomach\", \"store\", \"store\", \"street\", \"suicide\", \"table\", \"take\", \"thing\", \"think\", \"time\", \"today\", \"today\", \"travel\", \"try\", \"veteran\", \"veteran\", \"want\", \"wear\", \"wear\", \"week\", \"work\", \"year\"]}, \"R\": 30, \"lambda.step\": 0.01, \"plot.opts\": {\"xlab\": \"PC1\", \"ylab\": \"PC2\"}, \"topic.order\": [1, 3, 2]};\n",
       "\n",
       "function LDAvis_load_lib(url, callback){\n",
       "  var s = document.createElement('script');\n",
       "  s.src = url;\n",
       "  s.async = true;\n",
       "  s.onreadystatechange = s.onload = callback;\n",
       "  s.onerror = function(){console.warn(\"failed to load library \" + url);};\n",
       "  document.getElementsByTagName(\"head\")[0].appendChild(s);\n",
       "}\n",
       "\n",
       "if(typeof(LDAvis) !== \"undefined\"){\n",
       "   // already loaded: just create the visualization\n",
       "   !function(LDAvis){\n",
       "       new LDAvis(\"#\" + \"ldavis_el1518820378196919682347260961\", ldavis_el1518820378196919682347260961_data);\n",
       "   }(LDAvis);\n",
       "}else if(typeof define === \"function\" && define.amd){\n",
       "   // require.js is available: use it to load d3/LDAvis\n",
       "   require.config({paths: {d3: \"https://d3js.org/d3.v5\"}});\n",
       "   require([\"d3\"], function(d3){\n",
       "      window.d3 = d3;\n",
       "      LDAvis_load_lib(\"https://cdn.jsdelivr.net/gh/bmabey/pyLDAvis@3.3.1/pyLDAvis/js/ldavis.v3.0.0.js\", function(){\n",
       "        new LDAvis(\"#\" + \"ldavis_el1518820378196919682347260961\", ldavis_el1518820378196919682347260961_data);\n",
       "      });\n",
       "    });\n",
       "}else{\n",
       "    // require.js not available: dynamically load d3 & LDAvis\n",
       "    LDAvis_load_lib(\"https://d3js.org/d3.v5.js\", function(){\n",
       "         LDAvis_load_lib(\"https://cdn.jsdelivr.net/gh/bmabey/pyLDAvis@3.3.1/pyLDAvis/js/ldavis.v3.0.0.js\", function(){\n",
       "                 new LDAvis(\"#\" + \"ldavis_el1518820378196919682347260961\", ldavis_el1518820378196919682347260961_data);\n",
       "            })\n",
       "         });\n",
       "}\n",
       "</script>"
      ],
      "text/plain": [
       "PreparedData(topic_coordinates=              x         y  topics  cluster       Freq\n",
       "topic                                                \n",
       "0      0.275723 -0.186997       1        1  78.503918\n",
       "2     -0.325820 -0.112235       2        1  11.022606\n",
       "1      0.050097  0.299232       3        1  10.473476, topic_info=          Term         Freq        Total Category  logprob  loglift\n",
       "74     suicide  4430.000000  4430.000000  Default  30.0000  30.0000\n",
       "738       copy  4360.000000  4360.000000  Default  29.0000  29.0000\n",
       "18       empty  3983.000000  3983.000000  Default  28.0000  28.0000\n",
       "200      could  2861.000000  2861.000000  Default  27.0000  27.0000\n",
       "174   lockdown  2755.000000  2755.000000  Default  26.0000  26.0000\n",
       "...        ...          ...          ...      ...      ...      ...\n",
       "1505      half   113.452995   254.027234   Topic3  -5.7180   1.4503\n",
       "2220     stand   108.042828   204.198778   Topic3  -5.7669   1.6198\n",
       "700       play   112.098663   289.160070   Topic3  -5.7300   1.3087\n",
       "1089      pack   100.092972   157.005947   Topic3  -5.8433   1.8061\n",
       "1025      full   103.219599   297.131239   Topic3  -5.8125   1.1990\n",
       "\n",
       "[142 rows x 6 columns], token_table=      Topic      Freq              Term\n",
       "term                                   \n",
       "26        3  0.994577               air\n",
       "2114      2  0.993458    always_listene\n",
       "736       2  0.999761  always_listening\n",
       "119       1  0.999774               amp\n",
       "0         1  0.999919           anxiety\n",
       "...     ...       ...               ...\n",
       "48        1  0.087375              wear\n",
       "48        3  0.912757              wear\n",
       "169       1  0.998988              week\n",
       "117       1  0.999675              work\n",
       "170       1  0.999591              year\n",
       "\n",
       "[140 rows x 3 columns], R=30, lambda_step=0.01, plot_opts={'xlab': 'PC1', 'ylab': 'PC2'}, topic_order=[1, 3, 2])"
      ]
     },
     "execution_count": 15,
     "metadata": {},
     "output_type": "execute_result"
    }
   ],
   "source": [
    "# Visualize the topics\n",
    "pyLDAvis.enable_notebook()\n",
    "vis = pyLDAvis.gensim_models.prepare(lda_model, corpus, id2word)\n",
    "vis"
   ]
  },
  {
   "cell_type": "code",
   "execution_count": 16,
   "id": "900285cf",
   "metadata": {},
   "outputs": [],
   "source": [
    "def compute_coherence_values(dictionary, corpus, texts, limit, start=2, step=3):    \n",
    "    coherence_values = []\n",
    "    model_list = []\n",
    "    for num_topics in range(start, limit, step):\n",
    "        model = gensim.models.ldamodel.LdaModel(corpus=corpus,\n",
    "                                           id2word=dictionary,\n",
    "                                           num_topics=num_topics, \n",
    "                                           random_state=100,\n",
    "                                           update_every=1,\n",
    "                                           chunksize=100,\n",
    "                                           passes=10,\n",
    "                                           alpha='auto',\n",
    "                                           per_word_topics=True)\n",
    "        model_list.append(model)\n",
    "        coherencemodel = CoherenceModel(model=model, texts=texts, dictionary=dictionary, coherence='c_v')\n",
    "        coherence_values.append(coherencemodel.get_coherence())\n",
    "        print(\"done num_topics={}\".format(num_topics))\n",
    "\n",
    "    return model_list, coherence_values"
   ]
  },
  {
   "cell_type": "code",
   "execution_count": 17,
   "id": "b93781d4",
   "metadata": {},
   "outputs": [
    {
     "name": "stdout",
     "output_type": "stream",
     "text": [
      "done num_topics=2\n",
      "done num_topics=3\n",
      "done num_topics=4\n",
      "done num_topics=5\n",
      "done num_topics=6\n",
      "done num_topics=7\n",
      "done num_topics=8\n",
      "done num_topics=9\n"
     ]
    }
   ],
   "source": [
    "model_list, coherence_values = compute_coherence_values(dictionary=id2word, corpus=corpus, texts=data_lemmatized, start=2, limit=10, step=1)"
   ]
  },
  {
   "cell_type": "code",
   "execution_count": 18,
   "id": "16a1de95",
   "metadata": {},
   "outputs": [
    {
     "data": {
      "image/png": "[encoded data removed]",
      "text/plain": [
       "<Figure size 432x288 with 1 Axes>"
      ]
     },
     "metadata": {
      "needs_background": "light"
     },
     "output_type": "display_data"
    }
   ],
   "source": [
    "# Show graph\n",
    "limit=10; start=2; step=1;\n",
    "x = range(start, limit, step)\n",
    "plt.plot(x, coherence_values)\n",
    "plt.xlabel(\"Num Topics\")\n",
    "plt.ylabel(\"Coherence score\")\n",
    "plt.legend((\"coherence_values\"), loc='best')\n",
    "plt.show()"
   ]
  },
  {
   "cell_type": "code",
   "execution_count": 19,
   "id": "5ad7ae5f",
   "metadata": {},
   "outputs": [
    {
     "name": "stdout",
     "output_type": "stream",
     "text": [
      "Num Topics = 2  has Coherence Value of 0.5117\n",
      "Num Topics = 3  has Coherence Value of 0.4646\n",
      "Num Topics = 4  has Coherence Value of 0.4737\n",
      "Num Topics = 5  has Coherence Value of 0.3692\n",
      "Num Topics = 6  has Coherence Value of 0.3634\n",
      "Num Topics = 7  has Coherence Value of 0.3661\n",
      "Num Topics = 8  has Coherence Value of 0.3225\n",
      "Num Topics = 9  has Coherence Value of 0.3467\n"
     ]
    }
   ],
   "source": [
    "# Print the coherence scores\n",
    "for m, cv in zip(x, coherence_values):\n",
    "    print(\"Num Topics =\", m, \" has Coherence Value of\", round(cv, 4))"
   ]
  },
  {
   "cell_type": "code",
   "execution_count": 20,
   "id": "85253de4",
   "metadata": {},
   "outputs": [
    {
     "name": "stdout",
     "output_type": "stream",
     "text": [
      "[(0,\n",
      "  '0.112*\"suicide\" + 0.110*\"copy\" + 0.072*\"could\" + 0.070*\"lockdown\" + '\n",
      "  '0.062*\"try\" + 0.058*\"figure\" + 0.051*\"retweet\" + 0.050*\"friend\" + '\n",
      "  '0.050*\"hotline\" + 0.048*\"demonstrate\"'),\n",
      " (1,\n",
      "  '0.029*\"covid\" + 0.018*\"anxiety\" + 0.014*\"pandemic\" + 0.014*\"depression\" + '\n",
      "  '0.011*\"people\" + 0.011*\"get\" + 0.010*\"empty\" + 0.010*\"go\" + 0.009*\"amp\" + '\n",
      "  '0.008*\"work\"')]\n"
     ]
    }
   ],
   "source": [
    "optimal_model = model_list[0]\n",
    "model_topics = optimal_model.show_topics(formatted=False)\n",
    "pprint(optimal_model.print_topics(num_words=10))"
   ]
  },
  {
   "cell_type": "code",
   "execution_count": 21,
   "id": "90c9bfac",
   "metadata": {},
   "outputs": [
    {
     "name": "stdout",
     "output_type": "stream",
     "text": [
      "([(1, 0.99343866)], [(15, [1]), (16, [1]), (17, [1]), (18, [1]), (19, [1]), (20, [1]), (21, [1]), (22, [1]), (23, [1]), (24, [1]), (25, [1])], [(15, [(1, 0.9995421)]), (16, [(1, 0.9996135)]), (17, [(1, 0.99983287)]), (18, [(1, 0.99998844)]), (19, [(1, 0.9999828)]), (20, [(1, 0.9999597)]), (21, [(1, 0.9998601)]), (22, [(1, 0.9998061)]), (23, [(1, 0.99988806)]), (24, [(1, 0.9997639)]), (25, [(1, 0.99995244)])])\n",
      "[(1, 0.99343866)]\n"
     ]
    }
   ],
   "source": [
    "# optimal_model[corpus][0]\n",
    "print(optimal_model[corpus][3])\n",
    "# print(optimal_model[corpus][4])\n",
    "# print(sorted(optimal_model[corpus][3], key=lambda x: (x[1]), reverse=True))\n",
    "tst=optimal_model[corpus][3][0]\n",
    "print(sorted(tst, key=lambda x: (x[1]), reverse=True))"
   ]
  },
  {
   "cell_type": "code",
   "execution_count": 22,
   "id": "e9eda46d",
   "metadata": {},
   "outputs": [
    {
     "data": {
      "text/html": [
       "<div>\n",
       "<style scoped>\n",
       "    .dataframe tbody tr th:only-of-type {\n",
       "        vertical-align: middle;\n",
       "    }\n",
       "\n",
       "    .dataframe tbody tr th {\n",
       "        vertical-align: top;\n",
       "    }\n",
       "\n",
       "    .dataframe thead th {\n",
       "        text-align: right;\n",
       "    }\n",
       "</style>\n",
       "<table border=\"1\" class=\"dataframe\">\n",
       "  <thead>\n",
       "    <tr style=\"text-align: right;\">\n",
       "      <th></th>\n",
       "      <th>Document_No</th>\n",
       "      <th>Dominant_Topic</th>\n",
       "      <th>Topic_Perc_Contrib</th>\n",
       "      <th>Keywords</th>\n",
       "      <th>Text</th>\n",
       "    </tr>\n",
       "  </thead>\n",
       "  <tbody>\n",
       "    <tr>\n",
       "      <th>0</th>\n",
       "      <td>0</td>\n",
       "      <td>1.0</td>\n",
       "      <td>0.9920</td>\n",
       "      <td>covid, anxiety, pandemic, depression, people, ...</td>\n",
       "      <td>my anxiety levels are literally through the ro...</td>\n",
       "    </tr>\n",
       "    <tr>\n",
       "      <th>1</th>\n",
       "      <td>1</td>\n",
       "      <td>1.0</td>\n",
       "      <td>0.9657</td>\n",
       "      <td>covid, anxiety, pandemic, depression, people, ...</td>\n",
       "      <td>Corona Chronicles: Anti-social distancing #lat...</td>\n",
       "    </tr>\n",
       "    <tr>\n",
       "      <th>2</th>\n",
       "      <td>2</td>\n",
       "      <td>1.0</td>\n",
       "      <td>0.9861</td>\n",
       "      <td>covid, anxiety, pandemic, depression, people, ...</td>\n",
       "      <td>COVID-19 symptoms: loss of taste and smell, co...</td>\n",
       "    </tr>\n",
       "    <tr>\n",
       "      <th>3</th>\n",
       "      <td>3</td>\n",
       "      <td>1.0</td>\n",
       "      <td>0.9934</td>\n",
       "      <td>covid, anxiety, pandemic, depression, people, ...</td>\n",
       "      <td>I will admit we where afraid of the Corona vir...</td>\n",
       "    </tr>\n",
       "    <tr>\n",
       "      <th>4</th>\n",
       "      <td>4</td>\n",
       "      <td>1.0</td>\n",
       "      <td>0.9939</td>\n",
       "      <td>covid, anxiety, pandemic, depression, people, ...</td>\n",
       "      <td>#smog over #losangeles seems to be gone. This ...</td>\n",
       "    </tr>\n",
       "    <tr>\n",
       "      <th>5</th>\n",
       "      <td>5</td>\n",
       "      <td>1.0</td>\n",
       "      <td>0.9959</td>\n",
       "      <td>covid, anxiety, pandemic, depression, people, ...</td>\n",
       "      <td>@4lisaguerrero Unfortunately , we will be seei...</td>\n",
       "    </tr>\n",
       "    <tr>\n",
       "      <th>6</th>\n",
       "      <td>6</td>\n",
       "      <td>1.0</td>\n",
       "      <td>0.9961</td>\n",
       "      <td>covid, anxiety, pandemic, depression, people, ...</td>\n",
       "      <td>#DoNotOpenCalifornia We are now seeing more cr...</td>\n",
       "    </tr>\n",
       "    <tr>\n",
       "      <th>7</th>\n",
       "      <td>7</td>\n",
       "      <td>1.0</td>\n",
       "      <td>0.8987</td>\n",
       "      <td>covid, anxiety, pandemic, depression, people, ...</td>\n",
       "      <td>@NewsHour ya’ll realize there is absolutely no...</td>\n",
       "    </tr>\n",
       "    <tr>\n",
       "      <th>8</th>\n",
       "      <td>8</td>\n",
       "      <td>1.0</td>\n",
       "      <td>0.9957</td>\n",
       "      <td>covid, anxiety, pandemic, depression, people, ...</td>\n",
       "      <td>Tops on the Senate agenda is not necessarily t...</td>\n",
       "    </tr>\n",
       "    <tr>\n",
       "      <th>9</th>\n",
       "      <td>9</td>\n",
       "      <td>1.0</td>\n",
       "      <td>0.9963</td>\n",
       "      <td>covid, anxiety, pandemic, depression, people, ...</td>\n",
       "      <td>Idk about you guys but seeing a black man lync...</td>\n",
       "    </tr>\n",
       "  </tbody>\n",
       "</table>\n",
       "</div>"
      ],
      "text/plain": [
       "   Document_No  Dominant_Topic  Topic_Perc_Contrib  \\\n",
       "0            0             1.0              0.9920   \n",
       "1            1             1.0              0.9657   \n",
       "2            2             1.0              0.9861   \n",
       "3            3             1.0              0.9934   \n",
       "4            4             1.0              0.9939   \n",
       "5            5             1.0              0.9959   \n",
       "6            6             1.0              0.9961   \n",
       "7            7             1.0              0.8987   \n",
       "8            8             1.0              0.9957   \n",
       "9            9             1.0              0.9963   \n",
       "\n",
       "                                            Keywords  \\\n",
       "0  covid, anxiety, pandemic, depression, people, ...   \n",
       "1  covid, anxiety, pandemic, depression, people, ...   \n",
       "2  covid, anxiety, pandemic, depression, people, ...   \n",
       "3  covid, anxiety, pandemic, depression, people, ...   \n",
       "4  covid, anxiety, pandemic, depression, people, ...   \n",
       "5  covid, anxiety, pandemic, depression, people, ...   \n",
       "6  covid, anxiety, pandemic, depression, people, ...   \n",
       "7  covid, anxiety, pandemic, depression, people, ...   \n",
       "8  covid, anxiety, pandemic, depression, people, ...   \n",
       "9  covid, anxiety, pandemic, depression, people, ...   \n",
       "\n",
       "                                                Text  \n",
       "0  my anxiety levels are literally through the ro...  \n",
       "1  Corona Chronicles: Anti-social distancing #lat...  \n",
       "2  COVID-19 symptoms: loss of taste and smell, co...  \n",
       "3  I will admit we where afraid of the Corona vir...  \n",
       "4  #smog over #losangeles seems to be gone. This ...  \n",
       "5  @4lisaguerrero Unfortunately , we will be seei...  \n",
       "6  #DoNotOpenCalifornia We are now seeing more cr...  \n",
       "7  @NewsHour ya’ll realize there is absolutely no...  \n",
       "8  Tops on the Senate agenda is not necessarily t...  \n",
       "9  Idk about you guys but seeing a black man lync...  "
      ]
     },
     "execution_count": 22,
     "metadata": {},
     "output_type": "execute_result"
    }
   ],
   "source": [
    "def format_topics_sentences(ldamodel=lda_model, corpus=corpus, texts=data):\n",
    "    # Init output\n",
    "    sent_topics_df = pd.DataFrame()\n",
    "\n",
    "    # Get main topic in each document\n",
    "    for i, row in enumerate(ldamodel[corpus]):\n",
    "        row = row[0]\n",
    "        row = sorted(row, key=lambda x: (x[1]), reverse=True)\n",
    "        # Get the Dominant topic, Perc Contribution and Keywords for each document\n",
    "        for j, (topic_num, prop_topic) in enumerate(row):\n",
    "            if j == 0:  # => dominant topic\n",
    "                wp = ldamodel.show_topic(topic_num)\n",
    "                topic_keywords = \", \".join([word for word, prop in wp])\n",
    "                sent_topics_df = sent_topics_df.append(pd.Series([int(topic_num), round(prop_topic,4), topic_keywords]), ignore_index=True)\n",
    "            else:\n",
    "                break\n",
    "    sent_topics_df.columns = ['Dominant_Topic', 'Perc_Contribution', 'Topic_Keywords']\n",
    "\n",
    "    # Add original text to the end of the output\n",
    "    contents = pd.Series(texts)\n",
    "    sent_topics_df = pd.concat([sent_topics_df, contents], axis=1)\n",
    "    return(sent_topics_df)\n",
    "\n",
    "\n",
    "df_topic_sents_keywords = format_topics_sentences(ldamodel=optimal_model, corpus=corpus, texts=data)\n",
    "\n",
    "# Format\n",
    "df_dominant_topic = df_topic_sents_keywords.reset_index()\n",
    "df_dominant_topic.columns = ['Document_No', 'Dominant_Topic', 'Topic_Perc_Contrib', 'Keywords', 'Text']\n",
    "\n",
    "# Show\n",
    "df_dominant_topic.head(10)"
   ]
  },
  {
   "cell_type": "code",
   "execution_count": 23,
   "id": "e663d35b",
   "metadata": {},
   "outputs": [
    {
     "data": {
      "text/html": [
       "<div>\n",
       "<style scoped>\n",
       "    .dataframe tbody tr th:only-of-type {\n",
       "        vertical-align: middle;\n",
       "    }\n",
       "\n",
       "    .dataframe tbody tr th {\n",
       "        vertical-align: top;\n",
       "    }\n",
       "\n",
       "    .dataframe thead th {\n",
       "        text-align: right;\n",
       "    }\n",
       "</style>\n",
       "<table border=\"1\" class=\"dataframe\">\n",
       "  <thead>\n",
       "    <tr style=\"text-align: right;\">\n",
       "      <th></th>\n",
       "      <th>Topic_Num</th>\n",
       "      <th>Topic_Perc_Contrib</th>\n",
       "      <th>Keywords</th>\n",
       "      <th>Text</th>\n",
       "    </tr>\n",
       "  </thead>\n",
       "  <tbody>\n",
       "    <tr>\n",
       "      <th>0</th>\n",
       "      <td>0.0</td>\n",
       "      <td>0.9814</td>\n",
       "      <td>suicide, copy, could, lockdown, try, figure, r...</td>\n",
       "      <td>Suicide figures are up 200% since lockdown. Co...</td>\n",
       "    </tr>\n",
       "    <tr>\n",
       "      <th>1</th>\n",
       "      <td>1.0</td>\n",
       "      <td>0.9976</td>\n",
       "      <td>covid, anxiety, pandemic, depression, people, ...</td>\n",
       "      <td>Let’s not forget that Covid is running wild, k...</td>\n",
       "    </tr>\n",
       "  </tbody>\n",
       "</table>\n",
       "</div>"
      ],
      "text/plain": [
       "   Topic_Num  Topic_Perc_Contrib  \\\n",
       "0        0.0              0.9814   \n",
       "1        1.0              0.9976   \n",
       "\n",
       "                                            Keywords  \\\n",
       "0  suicide, copy, could, lockdown, try, figure, r...   \n",
       "1  covid, anxiety, pandemic, depression, people, ...   \n",
       "\n",
       "                                                Text  \n",
       "0  Suicide figures are up 200% since lockdown. Co...  \n",
       "1  Let’s not forget that Covid is running wild, k...  "
      ]
     },
     "execution_count": 23,
     "metadata": {},
     "output_type": "execute_result"
    }
   ],
   "source": [
    "# Group top 5 sentences under each topic\n",
    "sent_topics_sorteddf_mallet = pd.DataFrame()\n",
    "\n",
    "sent_topics_outdf_grpd = df_topic_sents_keywords.groupby('Dominant_Topic')\n",
    "\n",
    "for i, grp in sent_topics_outdf_grpd:\n",
    "    sent_topics_sorteddf_mallet = pd.concat([sent_topics_sorteddf_mallet, \n",
    "                                             grp.sort_values(['Perc_Contribution'], ascending=[0]).head(1)], \n",
    "                                            axis=0)\n",
    "\n",
    "# Reset Index    \n",
    "sent_topics_sorteddf_mallet.reset_index(drop=True, inplace=True)\n",
    "\n",
    "# Format\n",
    "sent_topics_sorteddf_mallet.columns = ['Topic_Num', \"Topic_Perc_Contrib\", \"Keywords\", \"Text\"]\n",
    "\n",
    "# Show\n",
    "sent_topics_sorteddf_mallet.head()"
   ]
  },
  {
   "cell_type": "code",
   "execution_count": 24,
   "id": "34705632",
   "metadata": {},
   "outputs": [
    {
     "data": {
      "text/html": [
       "<div>\n",
       "<style scoped>\n",
       "    .dataframe tbody tr th:only-of-type {\n",
       "        vertical-align: middle;\n",
       "    }\n",
       "\n",
       "    .dataframe tbody tr th {\n",
       "        vertical-align: top;\n",
       "    }\n",
       "\n",
       "    .dataframe thead th {\n",
       "        text-align: right;\n",
       "    }\n",
       "</style>\n",
       "<table border=\"1\" class=\"dataframe\">\n",
       "  <thead>\n",
       "    <tr style=\"text-align: right;\">\n",
       "      <th></th>\n",
       "      <th>Dominant_Topic</th>\n",
       "      <th>Topic_Keywords</th>\n",
       "      <th>Num_Documents</th>\n",
       "      <th>Perc_Documents</th>\n",
       "    </tr>\n",
       "  </thead>\n",
       "  <tbody>\n",
       "    <tr>\n",
       "      <th>0.0</th>\n",
       "      <td>1.0</td>\n",
       "      <td>covid, anxiety, pandemic, depression, people, ...</td>\n",
       "      <td>2487.0</td>\n",
       "      <td>0.0962</td>\n",
       "    </tr>\n",
       "    <tr>\n",
       "      <th>1.0</th>\n",
       "      <td>1.0</td>\n",
       "      <td>covid, anxiety, pandemic, depression, people, ...</td>\n",
       "      <td>23375.0</td>\n",
       "      <td>0.9038</td>\n",
       "    </tr>\n",
       "    <tr>\n",
       "      <th>2.0</th>\n",
       "      <td>1.0</td>\n",
       "      <td>covid, anxiety, pandemic, depression, people, ...</td>\n",
       "      <td>NaN</td>\n",
       "      <td>NaN</td>\n",
       "    </tr>\n",
       "    <tr>\n",
       "      <th>3.0</th>\n",
       "      <td>1.0</td>\n",
       "      <td>covid, anxiety, pandemic, depression, people, ...</td>\n",
       "      <td>NaN</td>\n",
       "      <td>NaN</td>\n",
       "    </tr>\n",
       "    <tr>\n",
       "      <th>4.0</th>\n",
       "      <td>1.0</td>\n",
       "      <td>covid, anxiety, pandemic, depression, people, ...</td>\n",
       "      <td>NaN</td>\n",
       "      <td>NaN</td>\n",
       "    </tr>\n",
       "    <tr>\n",
       "      <th>...</th>\n",
       "      <td>...</td>\n",
       "      <td>...</td>\n",
       "      <td>...</td>\n",
       "      <td>...</td>\n",
       "    </tr>\n",
       "    <tr>\n",
       "      <th>25857.0</th>\n",
       "      <td>1.0</td>\n",
       "      <td>covid, anxiety, pandemic, depression, people, ...</td>\n",
       "      <td>NaN</td>\n",
       "      <td>NaN</td>\n",
       "    </tr>\n",
       "    <tr>\n",
       "      <th>25858.0</th>\n",
       "      <td>1.0</td>\n",
       "      <td>covid, anxiety, pandemic, depression, people, ...</td>\n",
       "      <td>NaN</td>\n",
       "      <td>NaN</td>\n",
       "    </tr>\n",
       "    <tr>\n",
       "      <th>25859.0</th>\n",
       "      <td>1.0</td>\n",
       "      <td>covid, anxiety, pandemic, depression, people, ...</td>\n",
       "      <td>NaN</td>\n",
       "      <td>NaN</td>\n",
       "    </tr>\n",
       "    <tr>\n",
       "      <th>25860.0</th>\n",
       "      <td>1.0</td>\n",
       "      <td>covid, anxiety, pandemic, depression, people, ...</td>\n",
       "      <td>NaN</td>\n",
       "      <td>NaN</td>\n",
       "    </tr>\n",
       "    <tr>\n",
       "      <th>25861.0</th>\n",
       "      <td>1.0</td>\n",
       "      <td>covid, anxiety, pandemic, depression, people, ...</td>\n",
       "      <td>NaN</td>\n",
       "      <td>NaN</td>\n",
       "    </tr>\n",
       "  </tbody>\n",
       "</table>\n",
       "<p>25862 rows × 4 columns</p>\n",
       "</div>"
      ],
      "text/plain": [
       "         Dominant_Topic                                     Topic_Keywords  \\\n",
       "0.0                 1.0  covid, anxiety, pandemic, depression, people, ...   \n",
       "1.0                 1.0  covid, anxiety, pandemic, depression, people, ...   \n",
       "2.0                 1.0  covid, anxiety, pandemic, depression, people, ...   \n",
       "3.0                 1.0  covid, anxiety, pandemic, depression, people, ...   \n",
       "4.0                 1.0  covid, anxiety, pandemic, depression, people, ...   \n",
       "...                 ...                                                ...   \n",
       "25857.0             1.0  covid, anxiety, pandemic, depression, people, ...   \n",
       "25858.0             1.0  covid, anxiety, pandemic, depression, people, ...   \n",
       "25859.0             1.0  covid, anxiety, pandemic, depression, people, ...   \n",
       "25860.0             1.0  covid, anxiety, pandemic, depression, people, ...   \n",
       "25861.0             1.0  covid, anxiety, pandemic, depression, people, ...   \n",
       "\n",
       "         Num_Documents  Perc_Documents  \n",
       "0.0             2487.0          0.0962  \n",
       "1.0            23375.0          0.9038  \n",
       "2.0                NaN             NaN  \n",
       "3.0                NaN             NaN  \n",
       "4.0                NaN             NaN  \n",
       "...                ...             ...  \n",
       "25857.0            NaN             NaN  \n",
       "25858.0            NaN             NaN  \n",
       "25859.0            NaN             NaN  \n",
       "25860.0            NaN             NaN  \n",
       "25861.0            NaN             NaN  \n",
       "\n",
       "[25862 rows x 4 columns]"
      ]
     },
     "execution_count": 24,
     "metadata": {},
     "output_type": "execute_result"
    }
   ],
   "source": [
    "# Number of Documents for Each Topic\n",
    "topic_counts = df_topic_sents_keywords['Dominant_Topic'].value_counts()\n",
    "\n",
    "# Percentage of Documents for Each Topic\n",
    "topic_contribution = round(topic_counts/topic_counts.sum(), 4)\n",
    "\n",
    "# Topic Number and Keywords\n",
    "topic_num_keywords = df_topic_sents_keywords[['Dominant_Topic', 'Topic_Keywords']]\n",
    "\n",
    "# Concatenate Column wise\n",
    "df_dominant_topics = pd.concat([topic_num_keywords, topic_counts, topic_contribution], axis=1)\n",
    "\n",
    "# Change Column names\n",
    "df_dominant_topics.columns = ['Dominant_Topic', 'Topic_Keywords', 'Num_Documents', 'Perc_Documents']\n",
    "\n",
    "# Show\n",
    "df_dominant_topics"
   ]
  }
 ],
 "metadata": {
  "kernelspec": {
   "display_name": "Python 3",
   "language": "python",
   "name": "python3"
  },
  "language_info": {
   "codemirror_mode": {
    "name": "ipython",
    "version": 3
   },
   "file_extension": ".py",
   "mimetype": "text/x-python",
   "name": "python",
   "nbconvert_exporter": "python",
   "pygments_lexer": "ipython3",
   "version": "3.8.10"
  }
 },
 "nbformat": 4,
 "nbformat_minor": 5
}
