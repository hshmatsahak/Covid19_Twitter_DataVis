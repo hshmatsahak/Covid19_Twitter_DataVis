{
 "cells": [
  {
   "cell_type": "code",
   "execution_count": 36,
   "metadata": {
    "scrolled": true
   },
   "outputs": [],
   "source": [
    "# importing the module\n",
    "import ast\n",
    "import pandas as pd\n",
    "\n",
    "# Opening JSON file\n",
    "with open('corona_tweets_02_data.txt', encoding='utf-8') as json_file:\n",
    "    tweets = []\n",
    "    for line in json_file:\n",
    "        tweets.append(ast.literal_eval(line))"
   ]
  },
  {
   "cell_type": "code",
   "execution_count": 37,
   "metadata": {},
   "outputs": [
    {
     "name": "stdout",
     "output_type": "stream",
     "text": [
      "{'possibly_sensitive': False, 'entities': {'mentions': [{'start': 3, 'end': 15, 'username': 'Chloelhaley'}]}, 'text': 'RT @Chloelhaley: Can everyone just stay at home please so that corona fucks off quickly and then we can carry on and enjoy our summer, fest…', 'public_metrics': {'retweet_count': 24370, 'reply_count': 0, 'like_count': 0, 'quote_count': 0}, 'id': '1240862157228703744', 'context_annotations': [{'domain': {'id': '123', 'name': 'Ongoing News Story', 'description': \"Ongoing News Stories like 'Brexit'\"}, 'entity': {'id': '1220701888179359745', 'name': 'COVID-19'}}], 'lang': 'en', 'author_id': '622247914', 'source': 'Twitter for iPhone', 'referenced_tweets': [{'type': 'retweeted', 'id': '1240274922657677313'}], 'created_at': '2020-03-20T04:46:07.000Z'}\n",
      "\n",
      "\n",
      "{'possibly_sensitive': False, 'text': 'Follow my sister on SoundCloud she about to drop sum hot shit 🔥 before we all die from corona https://t.co/1lKfsxKQWt', 'public_metrics': {'retweet_count': 0, 'reply_count': 0, 'like_count': 0, 'quote_count': 0}, 'id': '1240862157266272257', 'context_annotations': [{'domain': {'id': '123', 'name': 'Ongoing News Story', 'description': \"Ongoing News Stories like 'Brexit'\"}, 'entity': {'id': '1220701888179359745', 'name': 'COVID-19'}}, {'domain': {'id': '45', 'name': 'Brand Vertical', 'description': 'Top level entities that describe a Brands industry'}, 'entity': {'id': '781974597310615553', 'name': 'Entertainment'}}, {'domain': {'id': '46', 'name': 'Brand Category', 'description': 'Categories within Brand Verticals that narrow down the scope of Brands'}, 'entity': {'id': '781974597222535168', 'name': 'Online Services'}}, {'domain': {'id': '47', 'name': 'Brand', 'description': 'Brands and Companies'}, 'entity': {'id': '10043701892', 'name': 'SoundCloud'}}], 'entities': {'annotations': [{'start': 20, 'end': 29, 'probability': 0.7161, 'type': 'Product', 'normalized_text': 'SoundCloud'}], 'urls': [{'start': 94, 'end': 117, 'url': 'https://t.co/1lKfsxKQWt', 'expanded_url': 'https://soundcloud.com/4js', 'display_url': 'soundcloud.com/4js', 'status': 200, 'unwound_url': 'https://soundcloud.com/4js'}]}, 'lang': 'en', 'author_id': '984312130827530240', 'source': 'Twitter for iPhone', 'created_at': '2020-03-20T04:46:07.000Z'}\n",
      "\n",
      "\n",
      "{'possibly_sensitive': False, 'entities': {'mentions': [{'start': 3, 'end': 15, 'username': 'toriarenee_'}]}, 'text': 'RT @toriarenee_: This is for CORONA  you big fat white nasty smelling fat bitch why you took me off the motherfuckin schedule with your tri…', 'public_metrics': {'retweet_count': 47770, 'reply_count': 0, 'like_count': 0, 'quote_count': 0}, 'id': '1240862157992079360', 'context_annotations': [{'domain': {'id': '123', 'name': 'Ongoing News Story', 'description': \"Ongoing News Stories like 'Brexit'\"}, 'entity': {'id': '1220701888179359745', 'name': 'COVID-19'}}], 'lang': 'en', 'author_id': '386205883', 'source': 'Twitter for iPhone', 'referenced_tweets': [{'type': 'retweeted', 'id': '1240353157693177858'}], 'created_at': '2020-03-20T04:46:07.000Z'}\n",
      "\n",
      "\n",
      "{'possibly_sensitive': False, 'entities': {'mentions': [{'start': 3, 'end': 15, 'username': 'Chloelhaley'}]}, 'text': 'RT @Chloelhaley: Can everyone just stay at home please so that corona fucks off quickly and then we can carry on and enjoy our summer, fest…', 'public_metrics': {'retweet_count': 24370, 'reply_count': 0, 'like_count': 0, 'quote_count': 0}, 'id': '1240862158466023430', 'context_annotations': [{'domain': {'id': '123', 'name': 'Ongoing News Story', 'description': \"Ongoing News Stories like 'Brexit'\"}, 'entity': {'id': '1220701888179359745', 'name': 'COVID-19'}}], 'lang': 'en', 'author_id': '1095456938563911680', 'source': 'Twitter for iPhone', 'referenced_tweets': [{'type': 'retweeted', 'id': '1240274922657677313'}], 'created_at': '2020-03-20T04:46:07.000Z'}\n",
      "\n",
      "\n",
      "{'possibly_sensitive': False, 'entities': {'mentions': [{'start': 3, 'end': 15, 'username': 'GabbyMarieS'}]}, 'text': 'RT @GabbyMarieS: ok picture this:\\n\\nthe corona era is over \\nthe bars are flooded w people \\nshots are flying \\nbooties are bouncing \\ndrunken p…', 'public_metrics': {'retweet_count': 369, 'reply_count': 0, 'like_count': 0, 'quote_count': 0}, 'id': '1240862158847705089', 'context_annotations': [{'domain': {'id': '123', 'name': 'Ongoing News Story', 'description': \"Ongoing News Stories like 'Brexit'\"}, 'entity': {'id': '1220701888179359745', 'name': 'COVID-19'}}], 'lang': 'en', 'author_id': '1083924860', 'source': 'Twitter for iPhone', 'referenced_tweets': [{'type': 'retweeted', 'id': '1240077438534791169'}], 'created_at': '2020-03-20T04:46:07.000Z'}\n",
      "\n",
      "\n",
      "{'possibly_sensitive': False, 'entities': {'mentions': [{'start': 3, 'end': 15, 'username': 'MLKChefLean'}], 'urls': [{'start': 46, 'end': 69, 'url': 'https://t.co/ofBDQE58RJ', 'expanded_url': 'https://twitter.com/AlexJungle2/status/1239743072340066304/video/1', 'display_url': 'twitter.com/AlexJungle2/st…', 'status': 200, 'title': 'Twitter / Account Suspended', 'description': 'From breaking news and entertainment to sports and politics, get the full story with all the live commentary.', 'unwound_url': 'https://twitter.com/account/suspended'}]}, 'text': 'RT @MLKChefLean: Sharing this because corona  https://t.co/ofBDQE58RJ', 'public_metrics': {'retweet_count': 128078, 'reply_count': 0, 'like_count': 0, 'quote_count': 0}, 'id': '1240862158822477824', 'context_annotations': [{'domain': {'id': '123', 'name': 'Ongoing News Story', 'description': \"Ongoing News Stories like 'Brexit'\"}, 'entity': {'id': '1220701888179359745', 'name': 'COVID-19'}}], 'lang': 'en', 'author_id': '1134668471663566848', 'source': 'Twitter for Android', 'referenced_tweets': [{'type': 'retweeted', 'id': '1239880844392763392'}], 'created_at': '2020-03-20T04:46:07.000Z'}\n",
      "\n",
      "\n",
      "{'possibly_sensitive': False, 'text': 'Corona Virus in NJ,CT,CA,NY most threatened! https://t.co/pdzqtvON5V', 'public_metrics': {'retweet_count': 0, 'reply_count': 0, 'like_count': 0, 'quote_count': 0}, 'id': '1240862158956695552', 'context_annotations': [{'domain': {'id': '123', 'name': 'Ongoing News Story', 'description': \"Ongoing News Stories like 'Brexit'\"}, 'entity': {'id': '1220701888179359745', 'name': 'COVID-19'}}], 'entities': {'annotations': [{'start': 0, 'end': 11, 'probability': 0.3469, 'type': 'Organization', 'normalized_text': 'Corona Virus'}, {'start': 16, 'end': 23, 'probability': 0.2163, 'type': 'Place', 'normalized_text': 'NJ,CT,CA'}, {'start': 25, 'end': 26, 'probability': 0.526, 'type': 'Place', 'normalized_text': 'NY'}], 'urls': [{'start': 45, 'end': 68, 'url': 'https://t.co/pdzqtvON5V', 'expanded_url': 'https://twitter.com/RedMasshole/status/1240825601868562438', 'display_url': 'twitter.com/RedMasshole/st…'}]}, 'lang': 'en', 'author_id': '91709209', 'source': 'Twitter for iPad', 'created_at': '2020-03-20T04:46:07.000Z'}\n",
      "\n",
      "\n",
      "{'possibly_sensitive': False, 'entities': {'mentions': [{'start': 3, 'end': 18, 'username': 'goodbeanaltalt'}]}, 'text': 'RT @goodbeanaltalt: holy shit I hate every person in this video', 'public_metrics': {'retweet_count': 66068, 'reply_count': 0, 'like_count': 0, 'quote_count': 0}, 'id': '1240862159212433408', 'context_annotations': [{'domain': {'id': '123', 'name': 'Ongoing News Story', 'description': \"Ongoing News Stories like 'Brexit'\"}, 'entity': {'id': '1220701888179359745', 'name': 'COVID-19'}}], 'lang': 'en', 'author_id': '2495797220', 'source': 'Twitter for Android', 'referenced_tweets': [{'type': 'retweeted', 'id': '1240387230037876736'}], 'created_at': '2020-03-20T04:46:07.000Z'}\n",
      "\n",
      "\n",
      "{'possibly_sensitive': False, 'entities': {'mentions': [{'start': 3, 'end': 15, 'username': 'kifayat4pak'}, {'start': 118, 'end': 125, 'username': 'Jhagra'}]}, 'text': 'RT @kifayat4pak: Even the tertiary care hospital of KP has not equipped to admit this patient having corona symptoms. @Jhagra @SaleemKhanSa…', 'public_metrics': {'retweet_count': 1, 'reply_count': 0, 'like_count': 0, 'quote_count': 0}, 'id': '1240862159573258240', 'context_annotations': [{'domain': {'id': '10', 'name': 'Person', 'description': 'Named people in the world like Nelson Mandela'}, 'entity': {'id': '1070710934346186753', 'name': 'Reham Khan', 'description': 'British journalist of Pakistani descent'}}, {'domain': {'id': '94', 'name': 'Journalist', 'description': \"A journalist like 'Anderson Cooper'\"}, 'entity': {'id': '1070710934346186753', 'name': 'Reham Khan', 'description': 'British journalist of Pakistani descent'}}, {'domain': {'id': '123', 'name': 'Ongoing News Story', 'description': \"Ongoing News Stories like 'Brexit'\"}, 'entity': {'id': '1220701888179359745', 'name': 'COVID-19'}}], 'lang': 'en', 'author_id': '3321388111', 'source': 'Twitter for Android', 'referenced_tweets': [{'type': 'retweeted', 'id': '1240294400955232256'}], 'created_at': '2020-03-20T04:46:07.000Z'}\n",
      "\n",
      "\n",
      "{'possibly_sensitive': False, 'entities': {'mentions': [{'start': 0, 'end': 9, 'username': 'NYCMayor'}]}, 'text': '@NYCMayor  you said the corona virus tests were free. I had to pay $115 for one. You owe me $115.', 'public_metrics': {'retweet_count': 0, 'reply_count': 0, 'like_count': 0, 'quote_count': 0}, 'id': '1240862159791325189', 'context_annotations': [{'domain': {'id': '123', 'name': 'Ongoing News Story', 'description': \"Ongoing News Stories like 'Brexit'\"}, 'entity': {'id': '1220701888179359745', 'name': 'COVID-19'}}], 'lang': 'en', 'in_reply_to_user_id': '19834403', 'author_id': '1609682082', 'source': 'Twitter for iPhone', 'created_at': '2020-03-20T04:46:07.000Z'}\n",
      "\n",
      "\n"
     ]
    }
   ],
   "source": [
    "for i in range(10):\n",
    "    print(tweets[i])\n",
    "    print(\"\\n\")"
   ]
  },
  {
   "cell_type": "code",
   "execution_count": 59,
   "metadata": {},
   "outputs": [],
   "source": [
    "tweet_dataframe = pd.DataFrame(tweets, columns = ['possibly_sensitive', 'entities', 'text', 'public_metrics', 'id', 'context_annotations', 'lang', 'in_reply_to_user_id', 'author_id', 'source', 'referenced_tweets', 'created_at']) "
   ]
  },
  {
   "cell_type": "code",
   "execution_count": 60,
   "metadata": {},
   "outputs": [
    {
     "name": "stdout",
     "output_type": "stream",
     "text": [
      "   possibly_sensitive                                           entities  \\\n",
      "0               False  {'mentions': [{'start': 3, 'end': 15, 'usernam...   \n",
      "1               False  {'annotations': [{'start': 20, 'end': 29, 'pro...   \n",
      "2               False  {'mentions': [{'start': 3, 'end': 15, 'usernam...   \n",
      "3               False  {'mentions': [{'start': 3, 'end': 15, 'usernam...   \n",
      "4               False  {'mentions': [{'start': 3, 'end': 15, 'usernam...   \n",
      "\n",
      "                                                text  \\\n",
      "0  RT @Chloelhaley: Can everyone just stay at hom...   \n",
      "1  Follow my sister on SoundCloud she about to dr...   \n",
      "2  RT @toriarenee_: This is for CORONA  you big f...   \n",
      "3  RT @Chloelhaley: Can everyone just stay at hom...   \n",
      "4  RT @GabbyMarieS: ok picture this:\\n\\nthe coron...   \n",
      "\n",
      "                                      public_metrics                   id  \\\n",
      "0  {'retweet_count': 24370, 'reply_count': 0, 'li...  1240862157228703744   \n",
      "1  {'retweet_count': 0, 'reply_count': 0, 'like_c...  1240862157266272257   \n",
      "2  {'retweet_count': 47770, 'reply_count': 0, 'li...  1240862157992079360   \n",
      "3  {'retweet_count': 24370, 'reply_count': 0, 'li...  1240862158466023430   \n",
      "4  {'retweet_count': 369, 'reply_count': 0, 'like...  1240862158847705089   \n",
      "\n",
      "                                 context_annotations lang in_reply_to_user_id  \\\n",
      "0  [{'domain': {'id': '123', 'name': 'Ongoing New...   en                 NaN   \n",
      "1  [{'domain': {'id': '123', 'name': 'Ongoing New...   en                 NaN   \n",
      "2  [{'domain': {'id': '123', 'name': 'Ongoing New...   en                 NaN   \n",
      "3  [{'domain': {'id': '123', 'name': 'Ongoing New...   en                 NaN   \n",
      "4  [{'domain': {'id': '123', 'name': 'Ongoing New...   en                 NaN   \n",
      "\n",
      "             author_id              source  \\\n",
      "0            622247914  Twitter for iPhone   \n",
      "1   984312130827530240  Twitter for iPhone   \n",
      "2            386205883  Twitter for iPhone   \n",
      "3  1095456938563911680  Twitter for iPhone   \n",
      "4           1083924860  Twitter for iPhone   \n",
      "\n",
      "                                   referenced_tweets                created_at  \n",
      "0  [{'type': 'retweeted', 'id': '1240274922657677...  2020-03-20T04:46:07.000Z  \n",
      "1                                                NaN  2020-03-20T04:46:07.000Z  \n",
      "2  [{'type': 'retweeted', 'id': '1240353157693177...  2020-03-20T04:46:07.000Z  \n",
      "3  [{'type': 'retweeted', 'id': '1240274922657677...  2020-03-20T04:46:07.000Z  \n",
      "4  [{'type': 'retweeted', 'id': '1240077438534791...  2020-03-20T04:46:07.000Z  \n"
     ]
    }
   ],
   "source": [
    "print(tweet_dataframe.head())"
   ]
  },
  {
   "cell_type": "code",
   "execution_count": 65,
   "metadata": {},
   "outputs": [
    {
     "name": "stdout",
     "output_type": "stream",
     "text": [
      "possibly_sensitive       bool\n",
      "entities               object\n",
      "text                   object\n",
      "public_metrics         object\n",
      "id                     object\n",
      "context_annotations    object\n",
      "lang                   object\n",
      "in_reply_to_user_id    object\n",
      "author_id              object\n",
      "source                 object\n",
      "referenced_tweets      object\n",
      "created_at             object\n",
      "dtype: object\n"
     ]
    }
   ],
   "source": [
    "print(tweet_dataframe.dtypes)"
   ]
  },
  {
   "cell_type": "code",
   "execution_count": null,
   "metadata": {},
   "outputs": [],
   "source": [
    "import matplotlib.pyplot as plt\n",
    "plt.hist(tweet_dataframe.created_at, bins = 24)\n",
    "plt.show()"
   ]
  }
 ],
 "metadata": {
  "kernelspec": {
   "display_name": "Python 3",
   "language": "python",
   "name": "python3"
  },
  "language_info": {
   "codemirror_mode": {
    "name": "ipython",
    "version": 3
   },
   "file_extension": ".py",
   "mimetype": "text/x-python",
   "name": "python",
   "nbconvert_exporter": "python",
   "pygments_lexer": "ipython3",
   "version": "3.8.5"
  }
 },
 "nbformat": 4,
 "nbformat_minor": 4
}
